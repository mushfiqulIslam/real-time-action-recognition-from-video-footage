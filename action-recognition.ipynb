{
 "cells": [
  {
   "cell_type": "code",
   "execution_count": 2,
   "id": "designing-excuse",
   "metadata": {},
   "outputs": [],
   "source": [
    "import os\n",
    "import re\n",
    "import math\n",
    "import cv2\n",
    "import pandas as pd\n",
    "import numpy as np\n",
    "\n",
    "from tqdm import tqdm\n",
    "from glob import glob\n",
    "from tools.settings import *\n",
    "from keras.models import Sequential\n",
    "from keras.preprocessing import image\n",
    "from keras.layers import Dense, Dropout\n",
    "from keras.applications.vgg16 import VGG16\n",
    "from tensorflow.keras.utils import to_categorical\n",
    "from tools.train_val_test_spliter import split"
   ]
  },
  {
   "cell_type": "code",
   "execution_count": 112,
   "id": "configured-footage",
   "metadata": {},
   "outputs": [
    {
     "name": "stdout",
     "output_type": "stream",
     "text": [
      "Splitting the ginen dataset into Train Test=0.4 Validation=0.1\n",
      "Done\n"
     ]
    }
   ],
   "source": [
    "# To split dataset if already splits folder already exits no need to run it\n",
    "split()"
   ]
  },
  {
   "cell_type": "code",
   "execution_count": 3,
   "id": "static-chess",
   "metadata": {},
   "outputs": [],
   "source": [
    "train = pd. read_csv(os.path.join(dataset_path, \"train.csv\"))\n",
    "test = pd. read_csv(os.path.join(dataset_path, \"test.csv\"))\n",
    "val = pd. read_csv(os.path.join(dataset_path, \"val.csv\"))"
   ]
  },
  {
   "cell_type": "code",
   "execution_count": 3,
   "id": "rising-concrete",
   "metadata": {},
   "outputs": [
    {
     "data": {
      "text/html": [
       "<div>\n",
       "<style scoped>\n",
       "    .dataframe tbody tr th:only-of-type {\n",
       "        vertical-align: middle;\n",
       "    }\n",
       "\n",
       "    .dataframe tbody tr th {\n",
       "        vertical-align: top;\n",
       "    }\n",
       "\n",
       "    .dataframe thead th {\n",
       "        text-align: right;\n",
       "    }\n",
       "</style>\n",
       "<table border=\"1\" class=\"dataframe\">\n",
       "  <thead>\n",
       "    <tr style=\"text-align: right;\">\n",
       "      <th></th>\n",
       "      <th>Video_url</th>\n",
       "      <th>action</th>\n",
       "    </tr>\n",
       "  </thead>\n",
       "  <tbody>\n",
       "    <tr>\n",
       "      <th>0</th>\n",
       "      <td>/home/mushfiqul/Mushfiqul/CSE/Thesis2.0/real-t...</td>\n",
       "      <td>slap</td>\n",
       "    </tr>\n",
       "    <tr>\n",
       "      <th>1</th>\n",
       "      <td>/home/mushfiqul/Mushfiqul/CSE/Thesis2.0/real-t...</td>\n",
       "      <td>punch</td>\n",
       "    </tr>\n",
       "    <tr>\n",
       "      <th>2</th>\n",
       "      <td>/home/mushfiqul/Mushfiqul/CSE/Thesis2.0/real-t...</td>\n",
       "      <td>kick</td>\n",
       "    </tr>\n",
       "    <tr>\n",
       "      <th>3</th>\n",
       "      <td>/home/mushfiqul/Mushfiqul/CSE/Thesis2.0/real-t...</td>\n",
       "      <td>kick</td>\n",
       "    </tr>\n",
       "    <tr>\n",
       "      <th>4</th>\n",
       "      <td>/home/mushfiqul/Mushfiqul/CSE/Thesis2.0/real-t...</td>\n",
       "      <td>punch</td>\n",
       "    </tr>\n",
       "  </tbody>\n",
       "</table>\n",
       "</div>"
      ],
      "text/plain": [
       "                                           Video_url action\n",
       "0  /home/mushfiqul/Mushfiqul/CSE/Thesis2.0/real-t...   slap\n",
       "1  /home/mushfiqul/Mushfiqul/CSE/Thesis2.0/real-t...  punch\n",
       "2  /home/mushfiqul/Mushfiqul/CSE/Thesis2.0/real-t...   kick\n",
       "3  /home/mushfiqul/Mushfiqul/CSE/Thesis2.0/real-t...   kick\n",
       "4  /home/mushfiqul/Mushfiqul/CSE/Thesis2.0/real-t...  punch"
      ]
     },
     "execution_count": 3,
     "metadata": {},
     "output_type": "execute_result"
    }
   ],
   "source": [
    "train.head()"
   ]
  },
  {
   "cell_type": "code",
   "execution_count": 4,
   "id": "stainless-personal",
   "metadata": {},
   "outputs": [
    {
     "data": {
      "text/html": [
       "<div>\n",
       "<style scoped>\n",
       "    .dataframe tbody tr th:only-of-type {\n",
       "        vertical-align: middle;\n",
       "    }\n",
       "\n",
       "    .dataframe tbody tr th {\n",
       "        vertical-align: top;\n",
       "    }\n",
       "\n",
       "    .dataframe thead th {\n",
       "        text-align: right;\n",
       "    }\n",
       "</style>\n",
       "<table border=\"1\" class=\"dataframe\">\n",
       "  <thead>\n",
       "    <tr style=\"text-align: right;\">\n",
       "      <th></th>\n",
       "      <th>Video_url</th>\n",
       "      <th>action</th>\n",
       "    </tr>\n",
       "  </thead>\n",
       "  <tbody>\n",
       "    <tr>\n",
       "      <th>0</th>\n",
       "      <td>/home/mushfiqul/Mushfiqul/CSE/Thesis2.0/real-t...</td>\n",
       "      <td>slap</td>\n",
       "    </tr>\n",
       "    <tr>\n",
       "      <th>1</th>\n",
       "      <td>/home/mushfiqul/Mushfiqul/CSE/Thesis2.0/real-t...</td>\n",
       "      <td>slap</td>\n",
       "    </tr>\n",
       "    <tr>\n",
       "      <th>2</th>\n",
       "      <td>/home/mushfiqul/Mushfiqul/CSE/Thesis2.0/real-t...</td>\n",
       "      <td>punch</td>\n",
       "    </tr>\n",
       "    <tr>\n",
       "      <th>3</th>\n",
       "      <td>/home/mushfiqul/Mushfiqul/CSE/Thesis2.0/real-t...</td>\n",
       "      <td>kick</td>\n",
       "    </tr>\n",
       "    <tr>\n",
       "      <th>4</th>\n",
       "      <td>/home/mushfiqul/Mushfiqul/CSE/Thesis2.0/real-t...</td>\n",
       "      <td>slap</td>\n",
       "    </tr>\n",
       "  </tbody>\n",
       "</table>\n",
       "</div>"
      ],
      "text/plain": [
       "                                           Video_url action\n",
       "0  /home/mushfiqul/Mushfiqul/CSE/Thesis2.0/real-t...   slap\n",
       "1  /home/mushfiqul/Mushfiqul/CSE/Thesis2.0/real-t...   slap\n",
       "2  /home/mushfiqul/Mushfiqul/CSE/Thesis2.0/real-t...  punch\n",
       "3  /home/mushfiqul/Mushfiqul/CSE/Thesis2.0/real-t...   kick\n",
       "4  /home/mushfiqul/Mushfiqul/CSE/Thesis2.0/real-t...   slap"
      ]
     },
     "execution_count": 4,
     "metadata": {},
     "output_type": "execute_result"
    }
   ],
   "source": [
    "test.head()"
   ]
  },
  {
   "cell_type": "code",
   "execution_count": 11,
   "id": "pharmaceutical-honduras",
   "metadata": {},
   "outputs": [
    {
     "data": {
      "text/html": [
       "<div>\n",
       "<style scoped>\n",
       "    .dataframe tbody tr th:only-of-type {\n",
       "        vertical-align: middle;\n",
       "    }\n",
       "\n",
       "    .dataframe tbody tr th {\n",
       "        vertical-align: top;\n",
       "    }\n",
       "\n",
       "    .dataframe thead th {\n",
       "        text-align: right;\n",
       "    }\n",
       "</style>\n",
       "<table border=\"1\" class=\"dataframe\">\n",
       "  <thead>\n",
       "    <tr style=\"text-align: right;\">\n",
       "      <th></th>\n",
       "      <th>Video_url</th>\n",
       "      <th>action</th>\n",
       "    </tr>\n",
       "  </thead>\n",
       "  <tbody>\n",
       "    <tr>\n",
       "      <th>0</th>\n",
       "      <td>/home/mushfiqul/Mushfiqul/CSE/Thesis2.0/real-t...</td>\n",
       "      <td>punch</td>\n",
       "    </tr>\n",
       "    <tr>\n",
       "      <th>1</th>\n",
       "      <td>/home/mushfiqul/Mushfiqul/CSE/Thesis2.0/real-t...</td>\n",
       "      <td>kick</td>\n",
       "    </tr>\n",
       "    <tr>\n",
       "      <th>2</th>\n",
       "      <td>/home/mushfiqul/Mushfiqul/CSE/Thesis2.0/real-t...</td>\n",
       "      <td>slap</td>\n",
       "    </tr>\n",
       "    <tr>\n",
       "      <th>3</th>\n",
       "      <td>/home/mushfiqul/Mushfiqul/CSE/Thesis2.0/real-t...</td>\n",
       "      <td>kick</td>\n",
       "    </tr>\n",
       "    <tr>\n",
       "      <th>4</th>\n",
       "      <td>/home/mushfiqul/Mushfiqul/CSE/Thesis2.0/real-t...</td>\n",
       "      <td>slap</td>\n",
       "    </tr>\n",
       "  </tbody>\n",
       "</table>\n",
       "</div>"
      ],
      "text/plain": [
       "                                           Video_url action\n",
       "0  /home/mushfiqul/Mushfiqul/CSE/Thesis2.0/real-t...  punch\n",
       "1  /home/mushfiqul/Mushfiqul/CSE/Thesis2.0/real-t...   kick\n",
       "2  /home/mushfiqul/Mushfiqul/CSE/Thesis2.0/real-t...   slap\n",
       "3  /home/mushfiqul/Mushfiqul/CSE/Thesis2.0/real-t...   kick\n",
       "4  /home/mushfiqul/Mushfiqul/CSE/Thesis2.0/real-t...   slap"
      ]
     },
     "execution_count": 11,
     "metadata": {},
     "output_type": "execute_result"
    }
   ],
   "source": [
    "val.head()"
   ]
  },
  {
   "cell_type": "code",
   "execution_count": 5,
   "id": "twelve-independence",
   "metadata": {},
   "outputs": [
    {
     "name": "stdout",
     "output_type": "stream",
     "text": [
      "(111, 2)\n"
     ]
    }
   ],
   "source": [
    "print(train.shape)\n",
    "print(test.shape)\n",
    "print(val.shape)"
   ]
  },
  {
   "cell_type": "code",
   "execution_count": 13,
   "id": "forced-award",
   "metadata": {},
   "outputs": [],
   "source": [
    "def convert_to_frame(data, folder_name):\n",
    "    '''\n",
    "    Generated filenames format dataset_path/folder_name/video_name_frame{number}_action.jpg\n",
    "    '''\n",
    "    directory = os.path.join(dataset_path, folder_name)\n",
    "    if not os.path.exists(directory):\n",
    "        os.makedirs(directory)\n",
    "    for i in tqdm(range(data.shape[0])):\n",
    "        video_file = data['Video_url'][i]\n",
    "        action = data['action'][i]\n",
    "        video_name_list = video_file.split('/')[-1].split('.')\n",
    "        video_name_list = video_name_list[:-1]\n",
    "        video_name = \"\"\n",
    "        for n in video_name_list:\n",
    "            video_name += n\n",
    "        # capturing the video from the given path\n",
    "        capture = cv2.VideoCapture(video_file) \n",
    "        #frame rate\n",
    "        frame_rate = capture.get(5)\n",
    "        count = 0\n",
    "        while(capture.isOpened()):\n",
    "            #current frame number\n",
    "            frame_id = capture.get(1) \n",
    "            read_correctly, frame = capture.read()\n",
    "            if not read_correctly:\n",
    "                break\n",
    "            if (frame_id % math.floor(frame_rate) == 0):\n",
    "                # storing the frames in a new folder named train_1\n",
    "                filename = directory + \"/\" + video_name + \"_frame{}_\".format(count) + action +\".jpg\"\n",
    "                count += 1\n",
    "                cv2.imwrite(filename, frame)\n",
    "        capture.release()\n",
    "    print(\"Successfully Converted\")"
   ]
  },
  {
   "cell_type": "code",
   "execution_count": 89,
   "id": "criminal-wound",
   "metadata": {},
   "outputs": [
    {
     "name": "stderr",
     "output_type": "stream",
     "text": [
      "100%|██████████| 143/143 [00:50<00:00,  2.84it/s]"
     ]
    },
    {
     "name": "stdout",
     "output_type": "stream",
     "text": [
      "Successfully Converted\n"
     ]
    },
    {
     "name": "stderr",
     "output_type": "stream",
     "text": [
      "\n"
     ]
    }
   ],
   "source": [
    "convert_to_frame(train, train_frames_path_name)"
   ]
  },
  {
   "cell_type": "code",
   "execution_count": 15,
   "id": "veterinary-argentina",
   "metadata": {},
   "outputs": [
    {
     "name": "stderr",
     "output_type": "stream",
     "text": [
      "100%|██████████| 27/27 [00:09<00:00,  2.89it/s]"
     ]
    },
    {
     "name": "stdout",
     "output_type": "stream",
     "text": [
      "Successfully Converted\n"
     ]
    },
    {
     "name": "stderr",
     "output_type": "stream",
     "text": [
      "\n"
     ]
    }
   ],
   "source": [
    "convert_to_frame(val, val_frames_path_name)"
   ]
  },
  {
   "cell_type": "code",
   "execution_count": 17,
   "id": "compact-edmonton",
   "metadata": {},
   "outputs": [],
   "source": [
    "def create_paths_csv(directory, file_name):\n",
    "    images = os.listdir(directory)\n",
    "    images_path_list = []\n",
    "    images_action_list = [] \n",
    "    for image in images:\n",
    "        images_path_list.append(directory + image)\n",
    "        images_action_list.append(image.split('.')[0].split('_')[-1])\n",
    "    df = pd.DataFrame()\n",
    "    df['image'] = images_path_list\n",
    "    df['action'] = images_action_list\n",
    "    print(os.path.join(dataset_path, file_name+'.csv'))\n",
    "    df.to_csv(os.path.join(dataset_path, file_name+'.csv'), index=False)"
   ]
  },
  {
   "cell_type": "code",
   "execution_count": 121,
   "id": "electronic-advance",
   "metadata": {},
   "outputs": [
    {
     "name": "stdout",
     "output_type": "stream",
     "text": [
      "/home/mushfiqul/Mushfiqul/CSE/Thesis2.0/real-time-action-recognition-from-video-footage/dataset/train_frames.csv\n"
     ]
    }
   ],
   "source": [
    "create_paths_csv(train_frames_path, train_frames_path_name)"
   ]
  },
  {
   "cell_type": "code",
   "execution_count": 18,
   "id": "animated-prototype",
   "metadata": {},
   "outputs": [
    {
     "name": "stdout",
     "output_type": "stream",
     "text": [
      "/home/mushfiqul/Mushfiqul/CSE/Thesis2.0/real-time-action-recognition-from-video-footage/dataset/val_frames.csv\n"
     ]
    }
   ],
   "source": [
    "create_paths_csv(val_frames_path, val_frames_path_name)"
   ]
  },
  {
   "cell_type": "code",
   "execution_count": 36,
   "id": "adapted-reservoir",
   "metadata": {},
   "outputs": [
    {
     "data": {
      "text/html": [
       "<div>\n",
       "<style scoped>\n",
       "    .dataframe tbody tr th:only-of-type {\n",
       "        vertical-align: middle;\n",
       "    }\n",
       "\n",
       "    .dataframe tbody tr th {\n",
       "        vertical-align: top;\n",
       "    }\n",
       "\n",
       "    .dataframe thead th {\n",
       "        text-align: right;\n",
       "    }\n",
       "</style>\n",
       "<table border=\"1\" class=\"dataframe\">\n",
       "  <thead>\n",
       "    <tr style=\"text-align: right;\">\n",
       "      <th></th>\n",
       "      <th>image</th>\n",
       "      <th>action</th>\n",
       "    </tr>\n",
       "  </thead>\n",
       "  <tbody>\n",
       "    <tr>\n",
       "      <th>0</th>\n",
       "      <td>/home/mushfiqul/Mushfiqul/CSE/Thesis2.0/real-t...</td>\n",
       "      <td>punch</td>\n",
       "    </tr>\n",
       "    <tr>\n",
       "      <th>1</th>\n",
       "      <td>/home/mushfiqul/Mushfiqul/CSE/Thesis2.0/real-t...</td>\n",
       "      <td>slap</td>\n",
       "    </tr>\n",
       "    <tr>\n",
       "      <th>2</th>\n",
       "      <td>/home/mushfiqul/Mushfiqul/CSE/Thesis2.0/real-t...</td>\n",
       "      <td>slap</td>\n",
       "    </tr>\n",
       "    <tr>\n",
       "      <th>3</th>\n",
       "      <td>/home/mushfiqul/Mushfiqul/CSE/Thesis2.0/real-t...</td>\n",
       "      <td>slap</td>\n",
       "    </tr>\n",
       "    <tr>\n",
       "      <th>4</th>\n",
       "      <td>/home/mushfiqul/Mushfiqul/CSE/Thesis2.0/real-t...</td>\n",
       "      <td>slap</td>\n",
       "    </tr>\n",
       "  </tbody>\n",
       "</table>\n",
       "</div>"
      ],
      "text/plain": [
       "                                               image action\n",
       "0  /home/mushfiqul/Mushfiqul/CSE/Thesis2.0/real-t...  punch\n",
       "1  /home/mushfiqul/Mushfiqul/CSE/Thesis2.0/real-t...   slap\n",
       "2  /home/mushfiqul/Mushfiqul/CSE/Thesis2.0/real-t...   slap\n",
       "3  /home/mushfiqul/Mushfiqul/CSE/Thesis2.0/real-t...   slap\n",
       "4  /home/mushfiqul/Mushfiqul/CSE/Thesis2.0/real-t...   slap"
      ]
     },
     "execution_count": 36,
     "metadata": {},
     "output_type": "execute_result"
    }
   ],
   "source": [
    "train_image = pd.read_csv(os.path.join(dataset_path, 'train_frames.csv'))\n",
    "train_image.head()"
   ]
  },
  {
   "cell_type": "code",
   "execution_count": 3,
   "id": "refined-hybrid",
   "metadata": {},
   "outputs": [
    {
     "name": "stdout",
     "output_type": "stream",
     "text": [
      "(620, 2)\n"
     ]
    }
   ],
   "source": [
    "print(train_image.shape)"
   ]
  },
  {
   "cell_type": "code",
   "execution_count": 4,
   "id": "described-diameter",
   "metadata": {},
   "outputs": [
    {
     "data": {
      "text/html": [
       "<div>\n",
       "<style scoped>\n",
       "    .dataframe tbody tr th:only-of-type {\n",
       "        vertical-align: middle;\n",
       "    }\n",
       "\n",
       "    .dataframe tbody tr th {\n",
       "        vertical-align: top;\n",
       "    }\n",
       "\n",
       "    .dataframe thead th {\n",
       "        text-align: right;\n",
       "    }\n",
       "</style>\n",
       "<table border=\"1\" class=\"dataframe\">\n",
       "  <thead>\n",
       "    <tr style=\"text-align: right;\">\n",
       "      <th></th>\n",
       "      <th>image</th>\n",
       "      <th>action</th>\n",
       "    </tr>\n",
       "  </thead>\n",
       "  <tbody>\n",
       "    <tr>\n",
       "      <th>0</th>\n",
       "      <td>/home/mushfiqul/Mushfiqul/CSE/Thesis2.0/real-t...</td>\n",
       "      <td>slap</td>\n",
       "    </tr>\n",
       "    <tr>\n",
       "      <th>1</th>\n",
       "      <td>/home/mushfiqul/Mushfiqul/CSE/Thesis2.0/real-t...</td>\n",
       "      <td>slap</td>\n",
       "    </tr>\n",
       "    <tr>\n",
       "      <th>2</th>\n",
       "      <td>/home/mushfiqul/Mushfiqul/CSE/Thesis2.0/real-t...</td>\n",
       "      <td>kick</td>\n",
       "    </tr>\n",
       "    <tr>\n",
       "      <th>3</th>\n",
       "      <td>/home/mushfiqul/Mushfiqul/CSE/Thesis2.0/real-t...</td>\n",
       "      <td>slap</td>\n",
       "    </tr>\n",
       "    <tr>\n",
       "      <th>4</th>\n",
       "      <td>/home/mushfiqul/Mushfiqul/CSE/Thesis2.0/real-t...</td>\n",
       "      <td>slap</td>\n",
       "    </tr>\n",
       "  </tbody>\n",
       "</table>\n",
       "</div>"
      ],
      "text/plain": [
       "                                               image action\n",
       "0  /home/mushfiqul/Mushfiqul/CSE/Thesis2.0/real-t...   slap\n",
       "1  /home/mushfiqul/Mushfiqul/CSE/Thesis2.0/real-t...   slap\n",
       "2  /home/mushfiqul/Mushfiqul/CSE/Thesis2.0/real-t...   kick\n",
       "3  /home/mushfiqul/Mushfiqul/CSE/Thesis2.0/real-t...   slap\n",
       "4  /home/mushfiqul/Mushfiqul/CSE/Thesis2.0/real-t...   slap"
      ]
     },
     "execution_count": 4,
     "metadata": {},
     "output_type": "execute_result"
    }
   ],
   "source": [
    "val_image = pd.read_csv(os.path.join(dataset_path, 'val_frames.csv'))\n",
    "val_image.head()"
   ]
  },
  {
   "cell_type": "code",
   "execution_count": 5,
   "id": "warming-bearing",
   "metadata": {},
   "outputs": [
    {
     "name": "stdout",
     "output_type": "stream",
     "text": [
      "(115, 2)\n"
     ]
    }
   ],
   "source": [
    "print(val_image.shape)"
   ]
  },
  {
   "cell_type": "code",
   "execution_count": 33,
   "id": "regular-guess",
   "metadata": {},
   "outputs": [
    {
     "data": {
      "text/plain": [
       "['punch', 'slap', 'kick']"
      ]
     },
     "execution_count": 33,
     "metadata": {},
     "output_type": "execute_result"
    }
   ],
   "source": [
    "action_values = list(train_image['action'].unique())\n",
    "action_values"
   ]
  },
  {
   "cell_type": "code",
   "execution_count": 37,
   "id": "introductory-seller",
   "metadata": {},
   "outputs": [],
   "source": [
    "def create_class_columns(df):\n",
    "    for value in action_values:\n",
    "        df[value] = np.where(df['action'].str.contains(value), 1, 0)\n",
    "    df.drop('action', axis='columns', inplace=True)"
   ]
  },
  {
   "cell_type": "code",
   "execution_count": 38,
   "id": "falling-initial",
   "metadata": {},
   "outputs": [
    {
     "data": {
      "text/html": [
       "<div>\n",
       "<style scoped>\n",
       "    .dataframe tbody tr th:only-of-type {\n",
       "        vertical-align: middle;\n",
       "    }\n",
       "\n",
       "    .dataframe tbody tr th {\n",
       "        vertical-align: top;\n",
       "    }\n",
       "\n",
       "    .dataframe thead th {\n",
       "        text-align: right;\n",
       "    }\n",
       "</style>\n",
       "<table border=\"1\" class=\"dataframe\">\n",
       "  <thead>\n",
       "    <tr style=\"text-align: right;\">\n",
       "      <th></th>\n",
       "      <th>image</th>\n",
       "      <th>punch</th>\n",
       "      <th>slap</th>\n",
       "      <th>kick</th>\n",
       "    </tr>\n",
       "  </thead>\n",
       "  <tbody>\n",
       "    <tr>\n",
       "      <th>0</th>\n",
       "      <td>/home/mushfiqul/Mushfiqul/CSE/Thesis2.0/real-t...</td>\n",
       "      <td>1</td>\n",
       "      <td>0</td>\n",
       "      <td>0</td>\n",
       "    </tr>\n",
       "    <tr>\n",
       "      <th>1</th>\n",
       "      <td>/home/mushfiqul/Mushfiqul/CSE/Thesis2.0/real-t...</td>\n",
       "      <td>0</td>\n",
       "      <td>1</td>\n",
       "      <td>0</td>\n",
       "    </tr>\n",
       "    <tr>\n",
       "      <th>2</th>\n",
       "      <td>/home/mushfiqul/Mushfiqul/CSE/Thesis2.0/real-t...</td>\n",
       "      <td>0</td>\n",
       "      <td>1</td>\n",
       "      <td>0</td>\n",
       "    </tr>\n",
       "    <tr>\n",
       "      <th>3</th>\n",
       "      <td>/home/mushfiqul/Mushfiqul/CSE/Thesis2.0/real-t...</td>\n",
       "      <td>0</td>\n",
       "      <td>1</td>\n",
       "      <td>0</td>\n",
       "    </tr>\n",
       "    <tr>\n",
       "      <th>4</th>\n",
       "      <td>/home/mushfiqul/Mushfiqul/CSE/Thesis2.0/real-t...</td>\n",
       "      <td>0</td>\n",
       "      <td>1</td>\n",
       "      <td>0</td>\n",
       "    </tr>\n",
       "  </tbody>\n",
       "</table>\n",
       "</div>"
      ],
      "text/plain": [
       "                                               image  punch  slap  kick\n",
       "0  /home/mushfiqul/Mushfiqul/CSE/Thesis2.0/real-t...      1     0     0\n",
       "1  /home/mushfiqul/Mushfiqul/CSE/Thesis2.0/real-t...      0     1     0\n",
       "2  /home/mushfiqul/Mushfiqul/CSE/Thesis2.0/real-t...      0     1     0\n",
       "3  /home/mushfiqul/Mushfiqul/CSE/Thesis2.0/real-t...      0     1     0\n",
       "4  /home/mushfiqul/Mushfiqul/CSE/Thesis2.0/real-t...      0     1     0"
      ]
     },
     "execution_count": 38,
     "metadata": {},
     "output_type": "execute_result"
    }
   ],
   "source": [
    "# train_image = train_image.replace(action_nums)\n",
    "create_class_columns(train_image)\n",
    "train_image.head()"
   ]
  },
  {
   "cell_type": "code",
   "execution_count": 39,
   "id": "structured-direction",
   "metadata": {},
   "outputs": [
    {
     "data": {
      "text/html": [
       "<div>\n",
       "<style scoped>\n",
       "    .dataframe tbody tr th:only-of-type {\n",
       "        vertical-align: middle;\n",
       "    }\n",
       "\n",
       "    .dataframe tbody tr th {\n",
       "        vertical-align: top;\n",
       "    }\n",
       "\n",
       "    .dataframe thead th {\n",
       "        text-align: right;\n",
       "    }\n",
       "</style>\n",
       "<table border=\"1\" class=\"dataframe\">\n",
       "  <thead>\n",
       "    <tr style=\"text-align: right;\">\n",
       "      <th></th>\n",
       "      <th>image</th>\n",
       "      <th>punch</th>\n",
       "      <th>slap</th>\n",
       "      <th>kick</th>\n",
       "    </tr>\n",
       "  </thead>\n",
       "  <tbody>\n",
       "    <tr>\n",
       "      <th>0</th>\n",
       "      <td>/home/mushfiqul/Mushfiqul/CSE/Thesis2.0/real-t...</td>\n",
       "      <td>0</td>\n",
       "      <td>1</td>\n",
       "      <td>0</td>\n",
       "    </tr>\n",
       "    <tr>\n",
       "      <th>1</th>\n",
       "      <td>/home/mushfiqul/Mushfiqul/CSE/Thesis2.0/real-t...</td>\n",
       "      <td>0</td>\n",
       "      <td>1</td>\n",
       "      <td>0</td>\n",
       "    </tr>\n",
       "    <tr>\n",
       "      <th>2</th>\n",
       "      <td>/home/mushfiqul/Mushfiqul/CSE/Thesis2.0/real-t...</td>\n",
       "      <td>0</td>\n",
       "      <td>0</td>\n",
       "      <td>1</td>\n",
       "    </tr>\n",
       "    <tr>\n",
       "      <th>3</th>\n",
       "      <td>/home/mushfiqul/Mushfiqul/CSE/Thesis2.0/real-t...</td>\n",
       "      <td>0</td>\n",
       "      <td>1</td>\n",
       "      <td>0</td>\n",
       "    </tr>\n",
       "    <tr>\n",
       "      <th>4</th>\n",
       "      <td>/home/mushfiqul/Mushfiqul/CSE/Thesis2.0/real-t...</td>\n",
       "      <td>0</td>\n",
       "      <td>1</td>\n",
       "      <td>0</td>\n",
       "    </tr>\n",
       "  </tbody>\n",
       "</table>\n",
       "</div>"
      ],
      "text/plain": [
       "                                               image  punch  slap  kick\n",
       "0  /home/mushfiqul/Mushfiqul/CSE/Thesis2.0/real-t...      0     1     0\n",
       "1  /home/mushfiqul/Mushfiqul/CSE/Thesis2.0/real-t...      0     1     0\n",
       "2  /home/mushfiqul/Mushfiqul/CSE/Thesis2.0/real-t...      0     0     1\n",
       "3  /home/mushfiqul/Mushfiqul/CSE/Thesis2.0/real-t...      0     1     0\n",
       "4  /home/mushfiqul/Mushfiqul/CSE/Thesis2.0/real-t...      0     1     0"
      ]
     },
     "execution_count": 39,
     "metadata": {},
     "output_type": "execute_result"
    }
   ],
   "source": [
    "# val_image = val_image.replace(action_nums)\n",
    "create_class_columns(val_image)\n",
    "val_image.head()"
   ]
  },
  {
   "cell_type": "code",
   "execution_count": 40,
   "id": "stopped-corrections",
   "metadata": {},
   "outputs": [],
   "source": [
    "def convert_to_array_and_split(image_data):\n",
    "    image_value = []\n",
    "    for i in tqdm(range(image_data.shape[0])):\n",
    "        img = image.load_img(image_data['image'][i], target_size=(224,224,3))\n",
    "        img = image.img_to_array(img)\n",
    "        # normalizing the pixel value\n",
    "        img = img / 255\n",
    "        image_value.append(img)\n",
    "\n",
    "    X = np.array(image_value)\n",
    "    y = image_data\n",
    "    y.drop('image', axis='columns', inplace=True)\n",
    "    return X, y"
   ]
  },
  {
   "cell_type": "code",
   "execution_count": 41,
   "id": "everyday-skiing",
   "metadata": {},
   "outputs": [
    {
     "name": "stderr",
     "output_type": "stream",
     "text": [
      "100%|██████████| 620/620 [00:06<00:00, 88.84it/s] \n"
     ]
    },
    {
     "name": "stdout",
     "output_type": "stream",
     "text": [
      "(620, 224, 224, 3)\n"
     ]
    }
   ],
   "source": [
    "X_train, y_train = convert_to_array_and_split(train_image)\n",
    "print(X_train.shape)"
   ]
  },
  {
   "cell_type": "code",
   "execution_count": 42,
   "id": "communist-yorkshire",
   "metadata": {},
   "outputs": [
    {
     "name": "stderr",
     "output_type": "stream",
     "text": [
      "100%|██████████| 115/115 [00:01<00:00, 89.14it/s]\n"
     ]
    },
    {
     "name": "stdout",
     "output_type": "stream",
     "text": [
      "(115, 224, 224, 3)\n"
     ]
    }
   ],
   "source": [
    "X_val, y_val = convert_to_array_and_split(val_image)\n",
    "print(X_val.shape)"
   ]
  },
  {
   "cell_type": "code",
   "execution_count": 43,
   "id": "cutting-stylus",
   "metadata": {},
   "outputs": [
    {
     "data": {
      "text/html": [
       "<div>\n",
       "<style scoped>\n",
       "    .dataframe tbody tr th:only-of-type {\n",
       "        vertical-align: middle;\n",
       "    }\n",
       "\n",
       "    .dataframe tbody tr th {\n",
       "        vertical-align: top;\n",
       "    }\n",
       "\n",
       "    .dataframe thead th {\n",
       "        text-align: right;\n",
       "    }\n",
       "</style>\n",
       "<table border=\"1\" class=\"dataframe\">\n",
       "  <thead>\n",
       "    <tr style=\"text-align: right;\">\n",
       "      <th></th>\n",
       "      <th>punch</th>\n",
       "      <th>slap</th>\n",
       "      <th>kick</th>\n",
       "    </tr>\n",
       "  </thead>\n",
       "  <tbody>\n",
       "    <tr>\n",
       "      <th>0</th>\n",
       "      <td>1</td>\n",
       "      <td>0</td>\n",
       "      <td>0</td>\n",
       "    </tr>\n",
       "    <tr>\n",
       "      <th>1</th>\n",
       "      <td>0</td>\n",
       "      <td>1</td>\n",
       "      <td>0</td>\n",
       "    </tr>\n",
       "    <tr>\n",
       "      <th>2</th>\n",
       "      <td>0</td>\n",
       "      <td>1</td>\n",
       "      <td>0</td>\n",
       "    </tr>\n",
       "    <tr>\n",
       "      <th>3</th>\n",
       "      <td>0</td>\n",
       "      <td>1</td>\n",
       "      <td>0</td>\n",
       "    </tr>\n",
       "    <tr>\n",
       "      <th>4</th>\n",
       "      <td>0</td>\n",
       "      <td>1</td>\n",
       "      <td>0</td>\n",
       "    </tr>\n",
       "  </tbody>\n",
       "</table>\n",
       "</div>"
      ],
      "text/plain": [
       "   punch  slap  kick\n",
       "0      1     0     0\n",
       "1      0     1     0\n",
       "2      0     1     0\n",
       "3      0     1     0\n",
       "4      0     1     0"
      ]
     },
     "execution_count": 43,
     "metadata": {},
     "output_type": "execute_result"
    }
   ],
   "source": [
    "y_train.head()"
   ]
  },
  {
   "cell_type": "code",
   "execution_count": 44,
   "id": "unauthorized-machine",
   "metadata": {},
   "outputs": [
    {
     "data": {
      "text/html": [
       "<div>\n",
       "<style scoped>\n",
       "    .dataframe tbody tr th:only-of-type {\n",
       "        vertical-align: middle;\n",
       "    }\n",
       "\n",
       "    .dataframe tbody tr th {\n",
       "        vertical-align: top;\n",
       "    }\n",
       "\n",
       "    .dataframe thead th {\n",
       "        text-align: right;\n",
       "    }\n",
       "</style>\n",
       "<table border=\"1\" class=\"dataframe\">\n",
       "  <thead>\n",
       "    <tr style=\"text-align: right;\">\n",
       "      <th></th>\n",
       "      <th>punch</th>\n",
       "      <th>slap</th>\n",
       "      <th>kick</th>\n",
       "    </tr>\n",
       "  </thead>\n",
       "  <tbody>\n",
       "    <tr>\n",
       "      <th>0</th>\n",
       "      <td>0</td>\n",
       "      <td>1</td>\n",
       "      <td>0</td>\n",
       "    </tr>\n",
       "    <tr>\n",
       "      <th>1</th>\n",
       "      <td>0</td>\n",
       "      <td>1</td>\n",
       "      <td>0</td>\n",
       "    </tr>\n",
       "    <tr>\n",
       "      <th>2</th>\n",
       "      <td>0</td>\n",
       "      <td>0</td>\n",
       "      <td>1</td>\n",
       "    </tr>\n",
       "    <tr>\n",
       "      <th>3</th>\n",
       "      <td>0</td>\n",
       "      <td>1</td>\n",
       "      <td>0</td>\n",
       "    </tr>\n",
       "    <tr>\n",
       "      <th>4</th>\n",
       "      <td>0</td>\n",
       "      <td>1</td>\n",
       "      <td>0</td>\n",
       "    </tr>\n",
       "  </tbody>\n",
       "</table>\n",
       "</div>"
      ],
      "text/plain": [
       "   punch  slap  kick\n",
       "0      0     1     0\n",
       "1      0     1     0\n",
       "2      0     0     1\n",
       "3      0     1     0\n",
       "4      0     1     0"
      ]
     },
     "execution_count": 44,
     "metadata": {},
     "output_type": "execute_result"
    }
   ],
   "source": [
    "y_val.head()"
   ]
  },
  {
   "cell_type": "code",
   "execution_count": 6,
   "id": "satellite-drinking",
   "metadata": {},
   "outputs": [],
   "source": [
    "'''This model was trained on a dataset that has 1,000 classes. \n",
    "include_top = False will remove the last layer of this model so that we can tune it as per our need.\n",
    "'''\n",
    "base_model = VGG16(weights='imagenet', include_top=False)"
   ]
  },
  {
   "cell_type": "code",
   "execution_count": 46,
   "id": "unable-advantage",
   "metadata": {},
   "outputs": [
    {
     "data": {
      "text/plain": [
       "(620, 7, 7, 512)"
      ]
     },
     "execution_count": 46,
     "metadata": {},
     "output_type": "execute_result"
    }
   ],
   "source": [
    "# extracting features for training frames\n",
    "X_train = base_model.predict(X_train)\n",
    "X_train.shape"
   ]
  },
  {
   "cell_type": "code",
   "execution_count": 47,
   "id": "studied-machinery",
   "metadata": {},
   "outputs": [
    {
     "data": {
      "text/plain": [
       "(115, 7, 7, 512)"
      ]
     },
     "execution_count": 47,
     "metadata": {},
     "output_type": "execute_result"
    }
   ],
   "source": [
    "X_val = base_model.predict(X_val)\n",
    "X_val.shape"
   ]
  },
  {
   "cell_type": "code",
   "execution_count": 48,
   "id": "mexican-cedar",
   "metadata": {},
   "outputs": [],
   "source": [
    "# reshaping the training as well as validation frames in single dimension\n",
    "X_train = X_train.reshape(620, 7*7*512)\n",
    "X_val = X_val.reshape(115, 7*7*512)"
   ]
  },
  {
   "cell_type": "code",
   "execution_count": 49,
   "id": "retained-correction",
   "metadata": {},
   "outputs": [
    {
     "name": "stdout",
     "output_type": "stream",
     "text": [
      "(620, 25088)\n",
      "(115, 25088)\n"
     ]
    }
   ],
   "source": [
    "# normalizing the pixel values\n",
    "max_pixel = X_train.max()\n",
    "X_train = X_train / max_pixel\n",
    "X_val = X_val / max_pixel\n",
    "print(X_train.shape)\n",
    "print(X_val.shape)"
   ]
  },
  {
   "cell_type": "code",
   "execution_count": 22,
   "id": "fallen-european",
   "metadata": {},
   "outputs": [
    {
     "ename": "IndexError",
     "evalue": "index 3 is out of bounds for axis 1 with size 3",
     "output_type": "error",
     "traceback": [
      "\u001b[0;31m---------------------------------------------------------------------------\u001b[0m",
      "\u001b[0;31mIndexError\u001b[0m                                Traceback (most recent call last)",
      "\u001b[0;32m<ipython-input-22-4b0522c0bf1f>\u001b[0m in \u001b[0;36m<module>\u001b[0;34m\u001b[0m\n\u001b[1;32m      1\u001b[0m \u001b[0;31m# y_train.value_counts()\u001b[0m\u001b[0;34m\u001b[0m\u001b[0;34m\u001b[0m\u001b[0;34m\u001b[0m\u001b[0m\n\u001b[0;32m----> 2\u001b[0;31m \u001b[0my_train\u001b[0m \u001b[0;34m=\u001b[0m \u001b[0mto_categorical\u001b[0m\u001b[0;34m(\u001b[0m\u001b[0my_val\u001b[0m\u001b[0;34m,\u001b[0m \u001b[0;36m3\u001b[0m\u001b[0;34m)\u001b[0m\u001b[0;34m\u001b[0m\u001b[0;34m\u001b[0m\u001b[0m\n\u001b[0m\u001b[1;32m      3\u001b[0m \u001b[0my_val\u001b[0m \u001b[0;34m=\u001b[0m \u001b[0mto_categorical\u001b[0m\u001b[0;34m(\u001b[0m\u001b[0my_val\u001b[0m\u001b[0;34m,\u001b[0m \u001b[0;36m3\u001b[0m\u001b[0;34m)\u001b[0m\u001b[0;34m\u001b[0m\u001b[0;34m\u001b[0m\u001b[0m\n\u001b[1;32m      4\u001b[0m \u001b[0mprint\u001b[0m\u001b[0;34m(\u001b[0m\u001b[0my_train\u001b[0m\u001b[0;34m)\u001b[0m\u001b[0;34m\u001b[0m\u001b[0;34m\u001b[0m\u001b[0m\n",
      "\u001b[0;32m~/anaconda3/envs/action-recognition/lib/python3.8/site-packages/tensorflow/python/keras/utils/np_utils.py\u001b[0m in \u001b[0;36mto_categorical\u001b[0;34m(y, num_classes, dtype)\u001b[0m\n\u001b[1;32m     76\u001b[0m   \u001b[0mn\u001b[0m \u001b[0;34m=\u001b[0m \u001b[0my\u001b[0m\u001b[0;34m.\u001b[0m\u001b[0mshape\u001b[0m\u001b[0;34m[\u001b[0m\u001b[0;36m0\u001b[0m\u001b[0;34m]\u001b[0m\u001b[0;34m\u001b[0m\u001b[0;34m\u001b[0m\u001b[0m\n\u001b[1;32m     77\u001b[0m   \u001b[0mcategorical\u001b[0m \u001b[0;34m=\u001b[0m \u001b[0mnp\u001b[0m\u001b[0;34m.\u001b[0m\u001b[0mzeros\u001b[0m\u001b[0;34m(\u001b[0m\u001b[0;34m(\u001b[0m\u001b[0mn\u001b[0m\u001b[0;34m,\u001b[0m \u001b[0mnum_classes\u001b[0m\u001b[0;34m)\u001b[0m\u001b[0;34m,\u001b[0m \u001b[0mdtype\u001b[0m\u001b[0;34m=\u001b[0m\u001b[0mdtype\u001b[0m\u001b[0;34m)\u001b[0m\u001b[0;34m\u001b[0m\u001b[0;34m\u001b[0m\u001b[0m\n\u001b[0;32m---> 78\u001b[0;31m   \u001b[0mcategorical\u001b[0m\u001b[0;34m[\u001b[0m\u001b[0mnp\u001b[0m\u001b[0;34m.\u001b[0m\u001b[0marange\u001b[0m\u001b[0;34m(\u001b[0m\u001b[0mn\u001b[0m\u001b[0;34m)\u001b[0m\u001b[0;34m,\u001b[0m \u001b[0my\u001b[0m\u001b[0;34m]\u001b[0m \u001b[0;34m=\u001b[0m \u001b[0;36m1\u001b[0m\u001b[0;34m\u001b[0m\u001b[0;34m\u001b[0m\u001b[0m\n\u001b[0m\u001b[1;32m     79\u001b[0m   \u001b[0moutput_shape\u001b[0m \u001b[0;34m=\u001b[0m \u001b[0minput_shape\u001b[0m \u001b[0;34m+\u001b[0m \u001b[0;34m(\u001b[0m\u001b[0mnum_classes\u001b[0m\u001b[0;34m,\u001b[0m\u001b[0;34m)\u001b[0m\u001b[0;34m\u001b[0m\u001b[0;34m\u001b[0m\u001b[0m\n\u001b[1;32m     80\u001b[0m   \u001b[0mcategorical\u001b[0m \u001b[0;34m=\u001b[0m \u001b[0mnp\u001b[0m\u001b[0;34m.\u001b[0m\u001b[0mreshape\u001b[0m\u001b[0;34m(\u001b[0m\u001b[0mcategorical\u001b[0m\u001b[0;34m,\u001b[0m \u001b[0moutput_shape\u001b[0m\u001b[0;34m)\u001b[0m\u001b[0;34m\u001b[0m\u001b[0;34m\u001b[0m\u001b[0m\n",
      "\u001b[0;31mIndexError\u001b[0m: index 3 is out of bounds for axis 1 with size 3"
     ]
    }
   ],
   "source": [
    "# y_train.value_counts()\n",
    "# y_train = to_categorical(y_val, 3)\n",
    "# y_val = to_categorical(y_val, 3)\n",
    "# print(y_train)"
   ]
  },
  {
   "cell_type": "code",
   "execution_count": 7,
   "id": "supreme-mountain",
   "metadata": {},
   "outputs": [],
   "source": [
    "# The input shape will be 25,088\n",
    "model = Sequential()\n",
    "model.add(Dense(1024, activation='relu', input_shape=(25088,)))\n",
    "model.add(Dropout(0.5))\n",
    "model.add(Dense(512, activation='relu'))\n",
    "model.add(Dropout(0.5))\n",
    "model.add(Dense(256, activation='relu'))\n",
    "model.add(Dropout(0.5))\n",
    "model.add(Dense(128, activation='relu'))\n",
    "model.add(Dropout(0.5))\n",
    "model.add(Dense(3, activation='softmax'))\n",
    "model.compile(loss='categorical_crossentropy',optimizer='Adam',metrics=['accuracy'])\n",
    "model.summary()"
   ]
  },
  {
   "cell_type": "code",
   "execution_count": 51,
   "id": "cosmetic-antibody",
   "metadata": {},
   "outputs": [],
   "source": [
    "# defining a function to save the weights of best model\n",
    "from keras.callbacks import ModelCheckpoint\n",
    "mcp_weight = ModelCheckpoint('weight.hdf5', save_best_only=True, monitor='val_loss', mode='min')"
   ]
  },
  {
   "cell_type": "code",
   "execution_count": 52,
   "id": "occupied-business",
   "metadata": {},
   "outputs": [
    {
     "name": "stdout",
     "output_type": "stream",
     "text": [
      "Epoch 1/50\n",
      "5/5 [==============================] - 3s 321ms/step - loss: 1.1389 - accuracy: 0.3393 - val_loss: 1.0301 - val_accuracy: 0.4174\n",
      "Epoch 2/50\n",
      "5/5 [==============================] - 1s 218ms/step - loss: 1.1504 - accuracy: 0.4171 - val_loss: 1.0465 - val_accuracy: 0.5478\n",
      "Epoch 3/50\n",
      "5/5 [==============================] - 1s 213ms/step - loss: 1.1016 - accuracy: 0.4032 - val_loss: 0.9591 - val_accuracy: 0.6000\n",
      "Epoch 4/50\n",
      "5/5 [==============================] - 1s 215ms/step - loss: 1.0401 - accuracy: 0.4225 - val_loss: 0.8997 - val_accuracy: 0.7130\n",
      "Epoch 5/50\n",
      "5/5 [==============================] - 1s 241ms/step - loss: 0.9412 - accuracy: 0.5252 - val_loss: 0.8153 - val_accuracy: 0.6000\n",
      "Epoch 6/50\n",
      "5/5 [==============================] - 1s 270ms/step - loss: 0.8623 - accuracy: 0.5709 - val_loss: 0.7721 - val_accuracy: 0.5826\n",
      "Epoch 7/50\n",
      "5/5 [==============================] - 1s 246ms/step - loss: 0.7634 - accuracy: 0.5906 - val_loss: 0.7163 - val_accuracy: 0.6435\n",
      "Epoch 8/50\n",
      "5/5 [==============================] - 1s 229ms/step - loss: 0.6844 - accuracy: 0.6722 - val_loss: 0.6860 - val_accuracy: 0.6348\n",
      "Epoch 9/50\n",
      "5/5 [==============================] - 1s 280ms/step - loss: 0.6165 - accuracy: 0.6894 - val_loss: 0.6059 - val_accuracy: 0.7478\n",
      "Epoch 10/50\n",
      "5/5 [==============================] - 1s 258ms/step - loss: 0.5377 - accuracy: 0.7425 - val_loss: 0.5767 - val_accuracy: 0.7478\n",
      "Epoch 11/50\n",
      "5/5 [==============================] - 1s 231ms/step - loss: 0.4996 - accuracy: 0.7777 - val_loss: 0.5114 - val_accuracy: 0.7652\n",
      "Epoch 12/50\n",
      "5/5 [==============================] - 1s 237ms/step - loss: 0.3926 - accuracy: 0.8259 - val_loss: 0.4093 - val_accuracy: 0.8609\n",
      "Epoch 13/50\n",
      "5/5 [==============================] - 1s 237ms/step - loss: 0.3527 - accuracy: 0.8499 - val_loss: 0.5951 - val_accuracy: 0.7391\n",
      "Epoch 14/50\n",
      "5/5 [==============================] - 1s 234ms/step - loss: 0.3024 - accuracy: 0.8820 - val_loss: 0.3675 - val_accuracy: 0.8696\n",
      "Epoch 15/50\n",
      "5/5 [==============================] - 1s 240ms/step - loss: 0.1971 - accuracy: 0.9286 - val_loss: 0.3445 - val_accuracy: 0.8957\n",
      "Epoch 16/50\n",
      "5/5 [==============================] - 1s 277ms/step - loss: 0.1685 - accuracy: 0.9445 - val_loss: 0.4556 - val_accuracy: 0.8435\n",
      "Epoch 17/50\n",
      "5/5 [==============================] - 1s 260ms/step - loss: 0.1245 - accuracy: 0.9565 - val_loss: 0.4948 - val_accuracy: 0.8435\n",
      "Epoch 18/50\n",
      "5/5 [==============================] - 1s 304ms/step - loss: 0.1138 - accuracy: 0.9551 - val_loss: 0.5257 - val_accuracy: 0.8522\n",
      "Epoch 19/50\n",
      "5/5 [==============================] - 1s 259ms/step - loss: 0.0829 - accuracy: 0.9724 - val_loss: 0.5262 - val_accuracy: 0.8609\n",
      "Epoch 20/50\n",
      "5/5 [==============================] - 1s 290ms/step - loss: 0.0503 - accuracy: 0.9877 - val_loss: 0.5520 - val_accuracy: 0.8696\n",
      "Epoch 21/50\n",
      "5/5 [==============================] - 1s 245ms/step - loss: 0.0496 - accuracy: 0.9804 - val_loss: 0.6919 - val_accuracy: 0.8261\n",
      "Epoch 22/50\n",
      "5/5 [==============================] - 1s 248ms/step - loss: 0.0596 - accuracy: 0.9844 - val_loss: 0.6105 - val_accuracy: 0.8522\n",
      "Epoch 23/50\n",
      "5/5 [==============================] - 1s 249ms/step - loss: 0.0184 - accuracy: 0.9981 - val_loss: 0.5441 - val_accuracy: 0.8957\n",
      "Epoch 24/50\n",
      "5/5 [==============================] - 1s 249ms/step - loss: 0.0231 - accuracy: 0.9911 - val_loss: 0.7473 - val_accuracy: 0.8522\n",
      "Epoch 25/50\n",
      "5/5 [==============================] - 1s 250ms/step - loss: 0.0346 - accuracy: 0.9924 - val_loss: 0.5575 - val_accuracy: 0.9043\n",
      "Epoch 26/50\n",
      "5/5 [==============================] - 1s 251ms/step - loss: 0.0244 - accuracy: 0.9918 - val_loss: 0.6191 - val_accuracy: 0.8957\n",
      "Epoch 27/50\n",
      "5/5 [==============================] - 1s 255ms/step - loss: 0.0275 - accuracy: 0.9931 - val_loss: 0.6592 - val_accuracy: 0.9043\n",
      "Epoch 28/50\n",
      "5/5 [==============================] - 1s 257ms/step - loss: 0.0256 - accuracy: 0.9910 - val_loss: 0.7573 - val_accuracy: 0.8348\n",
      "Epoch 29/50\n",
      "5/5 [==============================] - 1s 256ms/step - loss: 0.0288 - accuracy: 0.9898 - val_loss: 0.6935 - val_accuracy: 0.8609\n",
      "Epoch 30/50\n",
      "5/5 [==============================] - 1s 308ms/step - loss: 0.0221 - accuracy: 0.9948 - val_loss: 0.7768 - val_accuracy: 0.8435\n",
      "Epoch 31/50\n",
      "5/5 [==============================] - 1s 259ms/step - loss: 0.0180 - accuracy: 0.9959 - val_loss: 0.9047 - val_accuracy: 0.8435\n",
      "Epoch 32/50\n",
      "5/5 [==============================] - 1s 258ms/step - loss: 0.0408 - accuracy: 0.9815 - val_loss: 0.9112 - val_accuracy: 0.8261\n",
      "Epoch 33/50\n",
      "5/5 [==============================] - 1s 253ms/step - loss: 0.0390 - accuracy: 0.9852 - val_loss: 0.7788 - val_accuracy: 0.8609\n",
      "Epoch 34/50\n",
      "5/5 [==============================] - 1s 279ms/step - loss: 0.0423 - accuracy: 0.9898 - val_loss: 0.7841 - val_accuracy: 0.8435\n",
      "Epoch 35/50\n",
      "5/5 [==============================] - 2s 308ms/step - loss: 0.0254 - accuracy: 0.9898 - val_loss: 0.6716 - val_accuracy: 0.8957\n",
      "Epoch 36/50\n",
      "5/5 [==============================] - 1s 293ms/step - loss: 0.0129 - accuracy: 0.9970 - val_loss: 0.7369 - val_accuracy: 0.8522\n",
      "Epoch 37/50\n",
      "5/5 [==============================] - 3s 586ms/step - loss: 0.0107 - accuracy: 0.9995 - val_loss: 0.6180 - val_accuracy: 0.8957\n",
      "Epoch 38/50\n",
      "5/5 [==============================] - 4s 750ms/step - loss: 0.0141 - accuracy: 0.9949 - val_loss: 0.7367 - val_accuracy: 0.8957\n",
      "Epoch 39/50\n",
      "5/5 [==============================] - 4s 761ms/step - loss: 0.0276 - accuracy: 0.9948 - val_loss: 0.7410 - val_accuracy: 0.8870\n",
      "Epoch 40/50\n",
      "5/5 [==============================] - 3s 541ms/step - loss: 0.0253 - accuracy: 0.9899 - val_loss: 0.5579 - val_accuracy: 0.9217\n",
      "Epoch 41/50\n",
      "5/5 [==============================] - 2s 348ms/step - loss: 0.0095 - accuracy: 0.9981 - val_loss: 0.5783 - val_accuracy: 0.9130\n",
      "Epoch 42/50\n",
      "5/5 [==============================] - 2s 336ms/step - loss: 0.0190 - accuracy: 0.9938 - val_loss: 0.9236 - val_accuracy: 0.8348\n",
      "Epoch 43/50\n",
      "5/5 [==============================] - 2s 371ms/step - loss: 0.0349 - accuracy: 0.9877 - val_loss: 0.7071 - val_accuracy: 0.8957\n",
      "Epoch 44/50\n",
      "5/5 [==============================] - 2s 357ms/step - loss: 0.0200 - accuracy: 0.9935 - val_loss: 0.7664 - val_accuracy: 0.8783\n",
      "Epoch 45/50\n",
      "5/5 [==============================] - 2s 342ms/step - loss: 0.0200 - accuracy: 0.9941 - val_loss: 0.7141 - val_accuracy: 0.8870\n",
      "Epoch 46/50\n",
      "5/5 [==============================] - 2s 379ms/step - loss: 0.0158 - accuracy: 0.9945 - val_loss: 0.6007 - val_accuracy: 0.8957\n",
      "Epoch 47/50\n",
      "5/5 [==============================] - 2s 356ms/step - loss: 0.0124 - accuracy: 0.9953 - val_loss: 0.6160 - val_accuracy: 0.9043\n",
      "Epoch 48/50\n",
      "5/5 [==============================] - 2s 316ms/step - loss: 0.0243 - accuracy: 0.9883 - val_loss: 0.5122 - val_accuracy: 0.8957\n",
      "Epoch 49/50\n",
      "5/5 [==============================] - 1s 262ms/step - loss: 0.0258 - accuracy: 0.9929 - val_loss: 0.5640 - val_accuracy: 0.9217\n",
      "Epoch 50/50\n",
      "5/5 [==============================] - 1s 271ms/step - loss: 0.0090 - accuracy: 0.9968 - val_loss: 0.8859 - val_accuracy: 0.8783\n"
     ]
    },
    {
     "data": {
      "text/plain": [
       "<tensorflow.python.keras.callbacks.History at 0x7f7eb8447280>"
      ]
     },
     "execution_count": 52,
     "metadata": {},
     "output_type": "execute_result"
    }
   ],
   "source": [
    "model.fit(X_train, y_train, epochs=50, validation_data=(X_val, y_val), callbacks=[mcp_weight], batch_size=128)"
   ]
  },
  {
   "cell_type": "code",
   "execution_count": 8,
   "id": "loving-lunch",
   "metadata": {},
   "outputs": [],
   "source": [
    "model.load_weights(\"weight.hdf5\")\n",
    "# model.compile(loss='categorical_crossentropy',optimizer='Adam',metrics=['accuracy'])"
   ]
  },
  {
   "cell_type": "code",
   "execution_count": 18,
   "id": "basic-glass",
   "metadata": {},
   "outputs": [
    {
     "name": "stderr",
     "output_type": "stream",
     "text": [
      "  0%|          | 0/111 [00:01<?, ?it/s]"
     ]
    },
    {
     "name": "stdout",
     "output_type": "stream",
     "text": [
      "[0 0 0 0]\n",
      "0\n"
     ]
    },
    {
     "name": "stderr",
     "output_type": "stream",
     "text": [
      "\n"
     ]
    }
   ],
   "source": [
    "from scipy import stats as s\n",
    "predict = []\n",
    "actual = []\n",
    "if not os.path.exists(test_frames_path):\n",
    "    os.makedirs(test_frames_path)\n",
    "\n",
    "for i in tqdm(range(test.shape[0])):\n",
    "    video_file = test['Video_url'][i]\n",
    "    action = test['action'][i]\n",
    "    video_name_list = video_file.split('/')[-1].split('.')\n",
    "    video_name_list = video_name_list[:-1]\n",
    "    video_name = \"\"\n",
    "    for n in video_name_list:\n",
    "        video_name += n\n",
    "    # capturing the video from the given path\n",
    "    capture = cv2.VideoCapture(video_file) \n",
    "    #frame rate\n",
    "    frame_rate = capture.get(5)\n",
    "    count = 0\n",
    "    files = glob(test_frames_path + '/*')\n",
    "    #removing all files from folder\n",
    "    for f in files:\n",
    "        os.remove(f)\n",
    "    while(capture.isOpened()):\n",
    "        #current frame number\n",
    "        frame_id = capture.get(1) \n",
    "        read_correctly, frame = capture.read()\n",
    "        if not read_correctly:\n",
    "            break\n",
    "        if (frame_id % math.floor(frame_rate) == 0):\n",
    "            # storing the frames in a new folder named train_1\n",
    "            filename = test_frames_path + \"/\" + video_name + \"_frame{}_\".format(count) + action +\".jpg\"\n",
    "            count += 1\n",
    "            cv2.imwrite(filename, frame)\n",
    "    capture.release()\n",
    "    \n",
    "    # reading all the frames from temp folder\n",
    "    images = glob(test_frames_path + '/*.jpg')\n",
    "    prediction_images = []\n",
    "    for i in range(len(images)):\n",
    "        img = image.load_img(images[i], target_size=(224,224,3))\n",
    "        img = image.img_to_array(img)\n",
    "        img = img / 255\n",
    "        prediction_images.append(img)\n",
    "        \n",
    "    # converting all the frames for a test video into numpy array\n",
    "    prediction_images = np.array(prediction_images)\n",
    "    # extracting features using pre-trained model\n",
    "    prediction_images = base_model.predict(prediction_images)\n",
    "    # converting features in one dimensional array\n",
    "    prediction_images = prediction_images.reshape(prediction_images.shape[0], 7*7*512)\n",
    "    # predicting tags for each array\n",
    "    prediction = np.argmax(model.predict(prediction_images), axis=-1)\n",
    "    print(prediction)\n",
    "    print(s.mode(prediction)[0][0])\n",
    "    break\n",
    "    #need to see what happend\n",
    "    # appending the mode of predictions in predict list to assign the tag to the video\n",
    "#     predict.append(y.columns.values[s.mode(prediction)[0][0]])\n",
    "#     # appending the actual tag of the video\n",
    "#     actual.append(videoFile.split('/')[1].split('_')[1])"
   ]
  },
  {
   "cell_type": "code",
   "execution_count": 1,
   "id": "improving-catering",
   "metadata": {},
   "outputs": [],
   "source": []
  },
  {
   "cell_type": "code",
   "execution_count": null,
   "id": "third-baseball",
   "metadata": {},
   "outputs": [],
   "source": []
  }
 ],
 "metadata": {
  "kernelspec": {
   "display_name": "Python 3",
   "language": "python",
   "name": "python3"
  },
  "language_info": {
   "codemirror_mode": {
    "name": "ipython",
    "version": 3
   },
   "file_extension": ".py",
   "mimetype": "text/x-python",
   "name": "python",
   "nbconvert_exporter": "python",
   "pygments_lexer": "ipython3",
   "version": "3.8.8"
  }
 },
 "nbformat": 4,
 "nbformat_minor": 5
}
