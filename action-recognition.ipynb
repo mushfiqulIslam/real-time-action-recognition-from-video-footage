{
 "cells": [
  {
   "cell_type": "code",
   "execution_count": 2,
   "id": "designing-excuse",
   "metadata": {},
   "outputs": [],
   "source": [
    "import os\n",
    "import re\n",
    "import math\n",
    "import cv2\n",
    "import pandas as pd\n",
    "import numpy as np\n",
    "\n",
    "from tqdm import tqdm\n",
    "from tools.settings import *\n",
    "from keras.models import Sequential\n",
    "from keras.preprocessing import image\n",
    "from keras.layers import Dense, Dropout\n",
    "from keras.applications.vgg16 import VGG16\n",
    "from tensorflow.keras.utils import to_categorical\n",
    "from tools.train_val_test_spliter import split"
   ]
  },
  {
   "cell_type": "code",
   "execution_count": 112,
   "id": "configured-footage",
   "metadata": {},
   "outputs": [
    {
     "name": "stdout",
     "output_type": "stream",
     "text": [
      "Splitting the ginen dataset into Train Test=0.4 Validation=0.1\n",
      "Done\n"
     ]
    }
   ],
   "source": [
    "# To split dataset if already splits folder already exits no need to run it\n",
    "split()"
   ]
  },
  {
   "cell_type": "code",
   "execution_count": 10,
   "id": "static-chess",
   "metadata": {},
   "outputs": [],
   "source": [
    "train = pd. read_csv(os.path.join(dataset_path, \"train.csv\"))\n",
    "test = pd. read_csv(os.path.join(dataset_path, \"test.csv\"))\n",
    "val = pd. read_csv(os.path.join(dataset_path, \"val.csv\"))"
   ]
  },
  {
   "cell_type": "code",
   "execution_count": 3,
   "id": "rising-concrete",
   "metadata": {},
   "outputs": [
    {
     "data": {
      "text/html": [
       "<div>\n",
       "<style scoped>\n",
       "    .dataframe tbody tr th:only-of-type {\n",
       "        vertical-align: middle;\n",
       "    }\n",
       "\n",
       "    .dataframe tbody tr th {\n",
       "        vertical-align: top;\n",
       "    }\n",
       "\n",
       "    .dataframe thead th {\n",
       "        text-align: right;\n",
       "    }\n",
       "</style>\n",
       "<table border=\"1\" class=\"dataframe\">\n",
       "  <thead>\n",
       "    <tr style=\"text-align: right;\">\n",
       "      <th></th>\n",
       "      <th>Video_url</th>\n",
       "      <th>action</th>\n",
       "    </tr>\n",
       "  </thead>\n",
       "  <tbody>\n",
       "    <tr>\n",
       "      <th>0</th>\n",
       "      <td>/home/mushfiqul/Mushfiqul/CSE/Thesis2.0/real-t...</td>\n",
       "      <td>slap</td>\n",
       "    </tr>\n",
       "    <tr>\n",
       "      <th>1</th>\n",
       "      <td>/home/mushfiqul/Mushfiqul/CSE/Thesis2.0/real-t...</td>\n",
       "      <td>punch</td>\n",
       "    </tr>\n",
       "    <tr>\n",
       "      <th>2</th>\n",
       "      <td>/home/mushfiqul/Mushfiqul/CSE/Thesis2.0/real-t...</td>\n",
       "      <td>kick</td>\n",
       "    </tr>\n",
       "    <tr>\n",
       "      <th>3</th>\n",
       "      <td>/home/mushfiqul/Mushfiqul/CSE/Thesis2.0/real-t...</td>\n",
       "      <td>kick</td>\n",
       "    </tr>\n",
       "    <tr>\n",
       "      <th>4</th>\n",
       "      <td>/home/mushfiqul/Mushfiqul/CSE/Thesis2.0/real-t...</td>\n",
       "      <td>punch</td>\n",
       "    </tr>\n",
       "  </tbody>\n",
       "</table>\n",
       "</div>"
      ],
      "text/plain": [
       "                                           Video_url action\n",
       "0  /home/mushfiqul/Mushfiqul/CSE/Thesis2.0/real-t...   slap\n",
       "1  /home/mushfiqul/Mushfiqul/CSE/Thesis2.0/real-t...  punch\n",
       "2  /home/mushfiqul/Mushfiqul/CSE/Thesis2.0/real-t...   kick\n",
       "3  /home/mushfiqul/Mushfiqul/CSE/Thesis2.0/real-t...   kick\n",
       "4  /home/mushfiqul/Mushfiqul/CSE/Thesis2.0/real-t...  punch"
      ]
     },
     "execution_count": 3,
     "metadata": {},
     "output_type": "execute_result"
    }
   ],
   "source": [
    "train.head()"
   ]
  },
  {
   "cell_type": "code",
   "execution_count": 4,
   "id": "stainless-personal",
   "metadata": {},
   "outputs": [
    {
     "data": {
      "text/html": [
       "<div>\n",
       "<style scoped>\n",
       "    .dataframe tbody tr th:only-of-type {\n",
       "        vertical-align: middle;\n",
       "    }\n",
       "\n",
       "    .dataframe tbody tr th {\n",
       "        vertical-align: top;\n",
       "    }\n",
       "\n",
       "    .dataframe thead th {\n",
       "        text-align: right;\n",
       "    }\n",
       "</style>\n",
       "<table border=\"1\" class=\"dataframe\">\n",
       "  <thead>\n",
       "    <tr style=\"text-align: right;\">\n",
       "      <th></th>\n",
       "      <th>Video_url</th>\n",
       "      <th>action</th>\n",
       "    </tr>\n",
       "  </thead>\n",
       "  <tbody>\n",
       "    <tr>\n",
       "      <th>0</th>\n",
       "      <td>/home/mushfiqul/Mushfiqul/CSE/Thesis2.0/real-t...</td>\n",
       "      <td>slap</td>\n",
       "    </tr>\n",
       "    <tr>\n",
       "      <th>1</th>\n",
       "      <td>/home/mushfiqul/Mushfiqul/CSE/Thesis2.0/real-t...</td>\n",
       "      <td>slap</td>\n",
       "    </tr>\n",
       "    <tr>\n",
       "      <th>2</th>\n",
       "      <td>/home/mushfiqul/Mushfiqul/CSE/Thesis2.0/real-t...</td>\n",
       "      <td>punch</td>\n",
       "    </tr>\n",
       "    <tr>\n",
       "      <th>3</th>\n",
       "      <td>/home/mushfiqul/Mushfiqul/CSE/Thesis2.0/real-t...</td>\n",
       "      <td>kick</td>\n",
       "    </tr>\n",
       "    <tr>\n",
       "      <th>4</th>\n",
       "      <td>/home/mushfiqul/Mushfiqul/CSE/Thesis2.0/real-t...</td>\n",
       "      <td>slap</td>\n",
       "    </tr>\n",
       "  </tbody>\n",
       "</table>\n",
       "</div>"
      ],
      "text/plain": [
       "                                           Video_url action\n",
       "0  /home/mushfiqul/Mushfiqul/CSE/Thesis2.0/real-t...   slap\n",
       "1  /home/mushfiqul/Mushfiqul/CSE/Thesis2.0/real-t...   slap\n",
       "2  /home/mushfiqul/Mushfiqul/CSE/Thesis2.0/real-t...  punch\n",
       "3  /home/mushfiqul/Mushfiqul/CSE/Thesis2.0/real-t...   kick\n",
       "4  /home/mushfiqul/Mushfiqul/CSE/Thesis2.0/real-t...   slap"
      ]
     },
     "execution_count": 4,
     "metadata": {},
     "output_type": "execute_result"
    }
   ],
   "source": [
    "test.head()"
   ]
  },
  {
   "cell_type": "code",
   "execution_count": 11,
   "id": "pharmaceutical-honduras",
   "metadata": {},
   "outputs": [
    {
     "data": {
      "text/html": [
       "<div>\n",
       "<style scoped>\n",
       "    .dataframe tbody tr th:only-of-type {\n",
       "        vertical-align: middle;\n",
       "    }\n",
       "\n",
       "    .dataframe tbody tr th {\n",
       "        vertical-align: top;\n",
       "    }\n",
       "\n",
       "    .dataframe thead th {\n",
       "        text-align: right;\n",
       "    }\n",
       "</style>\n",
       "<table border=\"1\" class=\"dataframe\">\n",
       "  <thead>\n",
       "    <tr style=\"text-align: right;\">\n",
       "      <th></th>\n",
       "      <th>Video_url</th>\n",
       "      <th>action</th>\n",
       "    </tr>\n",
       "  </thead>\n",
       "  <tbody>\n",
       "    <tr>\n",
       "      <th>0</th>\n",
       "      <td>/home/mushfiqul/Mushfiqul/CSE/Thesis2.0/real-t...</td>\n",
       "      <td>punch</td>\n",
       "    </tr>\n",
       "    <tr>\n",
       "      <th>1</th>\n",
       "      <td>/home/mushfiqul/Mushfiqul/CSE/Thesis2.0/real-t...</td>\n",
       "      <td>kick</td>\n",
       "    </tr>\n",
       "    <tr>\n",
       "      <th>2</th>\n",
       "      <td>/home/mushfiqul/Mushfiqul/CSE/Thesis2.0/real-t...</td>\n",
       "      <td>slap</td>\n",
       "    </tr>\n",
       "    <tr>\n",
       "      <th>3</th>\n",
       "      <td>/home/mushfiqul/Mushfiqul/CSE/Thesis2.0/real-t...</td>\n",
       "      <td>kick</td>\n",
       "    </tr>\n",
       "    <tr>\n",
       "      <th>4</th>\n",
       "      <td>/home/mushfiqul/Mushfiqul/CSE/Thesis2.0/real-t...</td>\n",
       "      <td>slap</td>\n",
       "    </tr>\n",
       "  </tbody>\n",
       "</table>\n",
       "</div>"
      ],
      "text/plain": [
       "                                           Video_url action\n",
       "0  /home/mushfiqul/Mushfiqul/CSE/Thesis2.0/real-t...  punch\n",
       "1  /home/mushfiqul/Mushfiqul/CSE/Thesis2.0/real-t...   kick\n",
       "2  /home/mushfiqul/Mushfiqul/CSE/Thesis2.0/real-t...   slap\n",
       "3  /home/mushfiqul/Mushfiqul/CSE/Thesis2.0/real-t...   kick\n",
       "4  /home/mushfiqul/Mushfiqul/CSE/Thesis2.0/real-t...   slap"
      ]
     },
     "execution_count": 11,
     "metadata": {},
     "output_type": "execute_result"
    }
   ],
   "source": [
    "val.head()"
   ]
  },
  {
   "cell_type": "code",
   "execution_count": 12,
   "id": "twelve-independence",
   "metadata": {},
   "outputs": [
    {
     "name": "stdout",
     "output_type": "stream",
     "text": [
      "(143, 2)\n",
      "(111, 2)\n",
      "(27, 2)\n"
     ]
    }
   ],
   "source": [
    "print(train.shape)\n",
    "print(test.shape)\n",
    "print(val.shape)"
   ]
  },
  {
   "cell_type": "code",
   "execution_count": 13,
   "id": "forced-award",
   "metadata": {},
   "outputs": [],
   "source": [
    "def convert_to_frame(data, folder_name):\n",
    "    '''\n",
    "    Generated filenames format dataset_path/folder_name/video_name_frame{number}_action.jpg\n",
    "    '''\n",
    "    directory = os.path.join(dataset_path, folder_name)\n",
    "    if not os.path.exists(directory):\n",
    "        os.makedirs(directory)\n",
    "    for i in tqdm(range(data.shape[0])):\n",
    "        video_file = data['Video_url'][i]\n",
    "        action = data['action'][i]\n",
    "        video_name_list = video_file.split('/')[-1].split('.')\n",
    "        video_name_list = video_name_list[:-1]\n",
    "        video_name = \"\"\n",
    "        for n in video_name_list:\n",
    "            video_name += n\n",
    "        # capturing the video from the given path\n",
    "        capture = cv2.VideoCapture(video_file) \n",
    "        #frame rate\n",
    "        frame_rate = capture.get(5)\n",
    "        count = 0\n",
    "        while(capture.isOpened()):\n",
    "            #current frame number\n",
    "            frame_id = capture.get(1) \n",
    "            read_correctly, frame = capture.read()\n",
    "            if not read_correctly:\n",
    "                break\n",
    "            if (frame_id % math.floor(frame_rate) == 0):\n",
    "                # storing the frames in a new folder named train_1\n",
    "                filename = directory + \"/\" + video_name + \"_frame{}_\".format(count) + action +\".jpg\"\n",
    "                count += 1\n",
    "                cv2.imwrite(filename, frame)\n",
    "        capture.release()\n",
    "    print(\"Successfully Converted\")"
   ]
  },
  {
   "cell_type": "code",
   "execution_count": 89,
   "id": "criminal-wound",
   "metadata": {},
   "outputs": [
    {
     "name": "stderr",
     "output_type": "stream",
     "text": [
      "100%|██████████| 143/143 [00:50<00:00,  2.84it/s]"
     ]
    },
    {
     "name": "stdout",
     "output_type": "stream",
     "text": [
      "Successfully Converted\n"
     ]
    },
    {
     "name": "stderr",
     "output_type": "stream",
     "text": [
      "\n"
     ]
    }
   ],
   "source": [
    "convert_to_frame(train, train_frames_path_name)"
   ]
  },
  {
   "cell_type": "code",
   "execution_count": 15,
   "id": "veterinary-argentina",
   "metadata": {},
   "outputs": [
    {
     "name": "stderr",
     "output_type": "stream",
     "text": [
      "100%|██████████| 27/27 [00:09<00:00,  2.89it/s]"
     ]
    },
    {
     "name": "stdout",
     "output_type": "stream",
     "text": [
      "Successfully Converted\n"
     ]
    },
    {
     "name": "stderr",
     "output_type": "stream",
     "text": [
      "\n"
     ]
    }
   ],
   "source": [
    "convert_to_frame(val, val_frames_path_name)"
   ]
  },
  {
   "cell_type": "code",
   "execution_count": 17,
   "id": "compact-edmonton",
   "metadata": {},
   "outputs": [],
   "source": [
    "def create_paths_csv(directory, file_name):\n",
    "    images = os.listdir(directory)\n",
    "    images_path_list = []\n",
    "    images_action_list = [] \n",
    "    for image in images:\n",
    "        images_path_list.append(directory + image)\n",
    "        images_action_list.append(image.split('.')[0].split('_')[-1])\n",
    "    df = pd.DataFrame()\n",
    "    df['image'] = images_path_list\n",
    "    df['action'] = images_action_list\n",
    "    print(os.path.join(dataset_path, file_name+'.csv'))\n",
    "    df.to_csv(os.path.join(dataset_path, file_name+'.csv'), index=False)"
   ]
  },
  {
   "cell_type": "code",
   "execution_count": 121,
   "id": "electronic-advance",
   "metadata": {},
   "outputs": [
    {
     "name": "stdout",
     "output_type": "stream",
     "text": [
      "/home/mushfiqul/Mushfiqul/CSE/Thesis2.0/real-time-action-recognition-from-video-footage/dataset/train_frames.csv\n"
     ]
    }
   ],
   "source": [
    "create_paths_csv(train_frames_path, train_frames_path_name)"
   ]
  },
  {
   "cell_type": "code",
   "execution_count": 18,
   "id": "animated-prototype",
   "metadata": {},
   "outputs": [
    {
     "name": "stdout",
     "output_type": "stream",
     "text": [
      "/home/mushfiqul/Mushfiqul/CSE/Thesis2.0/real-time-action-recognition-from-video-footage/dataset/val_frames.csv\n"
     ]
    }
   ],
   "source": [
    "create_paths_csv(val_frames_path, val_frames_path_name)"
   ]
  },
  {
   "cell_type": "code",
   "execution_count": 3,
   "id": "adapted-reservoir",
   "metadata": {},
   "outputs": [
    {
     "data": {
      "text/html": [
       "<div>\n",
       "<style scoped>\n",
       "    .dataframe tbody tr th:only-of-type {\n",
       "        vertical-align: middle;\n",
       "    }\n",
       "\n",
       "    .dataframe tbody tr th {\n",
       "        vertical-align: top;\n",
       "    }\n",
       "\n",
       "    .dataframe thead th {\n",
       "        text-align: right;\n",
       "    }\n",
       "</style>\n",
       "<table border=\"1\" class=\"dataframe\">\n",
       "  <thead>\n",
       "    <tr style=\"text-align: right;\">\n",
       "      <th></th>\n",
       "      <th>image</th>\n",
       "      <th>action</th>\n",
       "    </tr>\n",
       "  </thead>\n",
       "  <tbody>\n",
       "    <tr>\n",
       "      <th>0</th>\n",
       "      <td>/home/mushfiqul/Mushfiqul/CSE/Thesis2.0/real-t...</td>\n",
       "      <td>punch</td>\n",
       "    </tr>\n",
       "    <tr>\n",
       "      <th>1</th>\n",
       "      <td>/home/mushfiqul/Mushfiqul/CSE/Thesis2.0/real-t...</td>\n",
       "      <td>slap</td>\n",
       "    </tr>\n",
       "    <tr>\n",
       "      <th>2</th>\n",
       "      <td>/home/mushfiqul/Mushfiqul/CSE/Thesis2.0/real-t...</td>\n",
       "      <td>slap</td>\n",
       "    </tr>\n",
       "    <tr>\n",
       "      <th>3</th>\n",
       "      <td>/home/mushfiqul/Mushfiqul/CSE/Thesis2.0/real-t...</td>\n",
       "      <td>slap</td>\n",
       "    </tr>\n",
       "    <tr>\n",
       "      <th>4</th>\n",
       "      <td>/home/mushfiqul/Mushfiqul/CSE/Thesis2.0/real-t...</td>\n",
       "      <td>slap</td>\n",
       "    </tr>\n",
       "  </tbody>\n",
       "</table>\n",
       "</div>"
      ],
      "text/plain": [
       "                                               image action\n",
       "0  /home/mushfiqul/Mushfiqul/CSE/Thesis2.0/real-t...  punch\n",
       "1  /home/mushfiqul/Mushfiqul/CSE/Thesis2.0/real-t...   slap\n",
       "2  /home/mushfiqul/Mushfiqul/CSE/Thesis2.0/real-t...   slap\n",
       "3  /home/mushfiqul/Mushfiqul/CSE/Thesis2.0/real-t...   slap\n",
       "4  /home/mushfiqul/Mushfiqul/CSE/Thesis2.0/real-t...   slap"
      ]
     },
     "execution_count": 3,
     "metadata": {},
     "output_type": "execute_result"
    }
   ],
   "source": [
    "train_image = pd.read_csv(os.path.join(dataset_path, 'train_frames.csv'))\n",
    "train_image.head()"
   ]
  },
  {
   "cell_type": "code",
   "execution_count": 4,
   "id": "refined-hybrid",
   "metadata": {},
   "outputs": [
    {
     "name": "stdout",
     "output_type": "stream",
     "text": [
      "(620, 2)\n"
     ]
    }
   ],
   "source": [
    "print(train_image.shape)"
   ]
  },
  {
   "cell_type": "code",
   "execution_count": 5,
   "id": "described-diameter",
   "metadata": {},
   "outputs": [
    {
     "data": {
      "text/html": [
       "<div>\n",
       "<style scoped>\n",
       "    .dataframe tbody tr th:only-of-type {\n",
       "        vertical-align: middle;\n",
       "    }\n",
       "\n",
       "    .dataframe tbody tr th {\n",
       "        vertical-align: top;\n",
       "    }\n",
       "\n",
       "    .dataframe thead th {\n",
       "        text-align: right;\n",
       "    }\n",
       "</style>\n",
       "<table border=\"1\" class=\"dataframe\">\n",
       "  <thead>\n",
       "    <tr style=\"text-align: right;\">\n",
       "      <th></th>\n",
       "      <th>image</th>\n",
       "      <th>action</th>\n",
       "    </tr>\n",
       "  </thead>\n",
       "  <tbody>\n",
       "    <tr>\n",
       "      <th>0</th>\n",
       "      <td>/home/mushfiqul/Mushfiqul/CSE/Thesis2.0/real-t...</td>\n",
       "      <td>slap</td>\n",
       "    </tr>\n",
       "    <tr>\n",
       "      <th>1</th>\n",
       "      <td>/home/mushfiqul/Mushfiqul/CSE/Thesis2.0/real-t...</td>\n",
       "      <td>slap</td>\n",
       "    </tr>\n",
       "    <tr>\n",
       "      <th>2</th>\n",
       "      <td>/home/mushfiqul/Mushfiqul/CSE/Thesis2.0/real-t...</td>\n",
       "      <td>kick</td>\n",
       "    </tr>\n",
       "    <tr>\n",
       "      <th>3</th>\n",
       "      <td>/home/mushfiqul/Mushfiqul/CSE/Thesis2.0/real-t...</td>\n",
       "      <td>slap</td>\n",
       "    </tr>\n",
       "    <tr>\n",
       "      <th>4</th>\n",
       "      <td>/home/mushfiqul/Mushfiqul/CSE/Thesis2.0/real-t...</td>\n",
       "      <td>slap</td>\n",
       "    </tr>\n",
       "  </tbody>\n",
       "</table>\n",
       "</div>"
      ],
      "text/plain": [
       "                                               image action\n",
       "0  /home/mushfiqul/Mushfiqul/CSE/Thesis2.0/real-t...   slap\n",
       "1  /home/mushfiqul/Mushfiqul/CSE/Thesis2.0/real-t...   slap\n",
       "2  /home/mushfiqul/Mushfiqul/CSE/Thesis2.0/real-t...   kick\n",
       "3  /home/mushfiqul/Mushfiqul/CSE/Thesis2.0/real-t...   slap\n",
       "4  /home/mushfiqul/Mushfiqul/CSE/Thesis2.0/real-t...   slap"
      ]
     },
     "execution_count": 5,
     "metadata": {},
     "output_type": "execute_result"
    }
   ],
   "source": [
    "val_image = pd.read_csv(os.path.join(dataset_path, 'val_frames.csv'))\n",
    "val_image.head()"
   ]
  },
  {
   "cell_type": "code",
   "execution_count": 6,
   "id": "warming-bearing",
   "metadata": {},
   "outputs": [
    {
     "name": "stdout",
     "output_type": "stream",
     "text": [
      "(115, 2)\n"
     ]
    }
   ],
   "source": [
    "print(val_image.shape)"
   ]
  },
  {
   "cell_type": "code",
   "execution_count": 11,
   "id": "regular-guess",
   "metadata": {},
   "outputs": [],
   "source": [
    "action_nums = {\"action\": {\"slap\": 0, \"kick\": 1, \"punch\": 3}}"
   ]
  },
  {
   "cell_type": "code",
   "execution_count": 12,
   "id": "falling-initial",
   "metadata": {},
   "outputs": [
    {
     "data": {
      "text/html": [
       "<div>\n",
       "<style scoped>\n",
       "    .dataframe tbody tr th:only-of-type {\n",
       "        vertical-align: middle;\n",
       "    }\n",
       "\n",
       "    .dataframe tbody tr th {\n",
       "        vertical-align: top;\n",
       "    }\n",
       "\n",
       "    .dataframe thead th {\n",
       "        text-align: right;\n",
       "    }\n",
       "</style>\n",
       "<table border=\"1\" class=\"dataframe\">\n",
       "  <thead>\n",
       "    <tr style=\"text-align: right;\">\n",
       "      <th></th>\n",
       "      <th>image</th>\n",
       "      <th>action</th>\n",
       "    </tr>\n",
       "  </thead>\n",
       "  <tbody>\n",
       "    <tr>\n",
       "      <th>0</th>\n",
       "      <td>/home/mushfiqul/Mushfiqul/CSE/Thesis2.0/real-t...</td>\n",
       "      <td>3</td>\n",
       "    </tr>\n",
       "    <tr>\n",
       "      <th>1</th>\n",
       "      <td>/home/mushfiqul/Mushfiqul/CSE/Thesis2.0/real-t...</td>\n",
       "      <td>0</td>\n",
       "    </tr>\n",
       "    <tr>\n",
       "      <th>2</th>\n",
       "      <td>/home/mushfiqul/Mushfiqul/CSE/Thesis2.0/real-t...</td>\n",
       "      <td>0</td>\n",
       "    </tr>\n",
       "    <tr>\n",
       "      <th>3</th>\n",
       "      <td>/home/mushfiqul/Mushfiqul/CSE/Thesis2.0/real-t...</td>\n",
       "      <td>0</td>\n",
       "    </tr>\n",
       "    <tr>\n",
       "      <th>4</th>\n",
       "      <td>/home/mushfiqul/Mushfiqul/CSE/Thesis2.0/real-t...</td>\n",
       "      <td>0</td>\n",
       "    </tr>\n",
       "  </tbody>\n",
       "</table>\n",
       "</div>"
      ],
      "text/plain": [
       "                                               image  action\n",
       "0  /home/mushfiqul/Mushfiqul/CSE/Thesis2.0/real-t...       3\n",
       "1  /home/mushfiqul/Mushfiqul/CSE/Thesis2.0/real-t...       0\n",
       "2  /home/mushfiqul/Mushfiqul/CSE/Thesis2.0/real-t...       0\n",
       "3  /home/mushfiqul/Mushfiqul/CSE/Thesis2.0/real-t...       0\n",
       "4  /home/mushfiqul/Mushfiqul/CSE/Thesis2.0/real-t...       0"
      ]
     },
     "execution_count": 12,
     "metadata": {},
     "output_type": "execute_result"
    }
   ],
   "source": [
    "train_image = train_image.replace(action_nums)\n",
    "train_image.head()"
   ]
  },
  {
   "cell_type": "code",
   "execution_count": 13,
   "id": "structured-direction",
   "metadata": {},
   "outputs": [
    {
     "data": {
      "text/html": [
       "<div>\n",
       "<style scoped>\n",
       "    .dataframe tbody tr th:only-of-type {\n",
       "        vertical-align: middle;\n",
       "    }\n",
       "\n",
       "    .dataframe tbody tr th {\n",
       "        vertical-align: top;\n",
       "    }\n",
       "\n",
       "    .dataframe thead th {\n",
       "        text-align: right;\n",
       "    }\n",
       "</style>\n",
       "<table border=\"1\" class=\"dataframe\">\n",
       "  <thead>\n",
       "    <tr style=\"text-align: right;\">\n",
       "      <th></th>\n",
       "      <th>image</th>\n",
       "      <th>action</th>\n",
       "    </tr>\n",
       "  </thead>\n",
       "  <tbody>\n",
       "    <tr>\n",
       "      <th>0</th>\n",
       "      <td>/home/mushfiqul/Mushfiqul/CSE/Thesis2.0/real-t...</td>\n",
       "      <td>0</td>\n",
       "    </tr>\n",
       "    <tr>\n",
       "      <th>1</th>\n",
       "      <td>/home/mushfiqul/Mushfiqul/CSE/Thesis2.0/real-t...</td>\n",
       "      <td>0</td>\n",
       "    </tr>\n",
       "    <tr>\n",
       "      <th>2</th>\n",
       "      <td>/home/mushfiqul/Mushfiqul/CSE/Thesis2.0/real-t...</td>\n",
       "      <td>1</td>\n",
       "    </tr>\n",
       "    <tr>\n",
       "      <th>3</th>\n",
       "      <td>/home/mushfiqul/Mushfiqul/CSE/Thesis2.0/real-t...</td>\n",
       "      <td>0</td>\n",
       "    </tr>\n",
       "    <tr>\n",
       "      <th>4</th>\n",
       "      <td>/home/mushfiqul/Mushfiqul/CSE/Thesis2.0/real-t...</td>\n",
       "      <td>0</td>\n",
       "    </tr>\n",
       "  </tbody>\n",
       "</table>\n",
       "</div>"
      ],
      "text/plain": [
       "                                               image  action\n",
       "0  /home/mushfiqul/Mushfiqul/CSE/Thesis2.0/real-t...       0\n",
       "1  /home/mushfiqul/Mushfiqul/CSE/Thesis2.0/real-t...       0\n",
       "2  /home/mushfiqul/Mushfiqul/CSE/Thesis2.0/real-t...       1\n",
       "3  /home/mushfiqul/Mushfiqul/CSE/Thesis2.0/real-t...       0\n",
       "4  /home/mushfiqul/Mushfiqul/CSE/Thesis2.0/real-t...       0"
      ]
     },
     "execution_count": 13,
     "metadata": {},
     "output_type": "execute_result"
    }
   ],
   "source": [
    "val_image = val_image.replace(action_nums)\n",
    "val_image.head()"
   ]
  },
  {
   "cell_type": "code",
   "execution_count": 14,
   "id": "stopped-corrections",
   "metadata": {},
   "outputs": [],
   "source": [
    "def convert_to_array_and_split(image_data):\n",
    "    image_value = []\n",
    "    for i in tqdm(range(image_data.shape[0])):\n",
    "        img = image.load_img(image_data['image'][i], target_size=(224,224,3))\n",
    "        img = image.img_to_array(img)\n",
    "        # normalizing the pixel value\n",
    "        img = img / 255\n",
    "        image_value.append(img)\n",
    "\n",
    "    X = np.array(image_value)\n",
    "    y = image_data['action']\n",
    "    return X, y"
   ]
  },
  {
   "cell_type": "code",
   "execution_count": 15,
   "id": "everyday-skiing",
   "metadata": {},
   "outputs": [
    {
     "name": "stderr",
     "output_type": "stream",
     "text": [
      "100%|██████████| 620/620 [00:07<00:00, 85.03it/s]\n"
     ]
    },
    {
     "name": "stdout",
     "output_type": "stream",
     "text": [
      "(620, 224, 224, 3)\n"
     ]
    }
   ],
   "source": [
    "X_train, y_train = convert_to_array_and_split(train_image)\n",
    "print(X_train.shape)"
   ]
  },
  {
   "cell_type": "code",
   "execution_count": 16,
   "id": "communist-yorkshire",
   "metadata": {},
   "outputs": [
    {
     "name": "stderr",
     "output_type": "stream",
     "text": [
      "100%|██████████| 115/115 [00:01<00:00, 90.46it/s]\n"
     ]
    },
    {
     "name": "stdout",
     "output_type": "stream",
     "text": [
      "(115, 224, 224, 3)\n"
     ]
    }
   ],
   "source": [
    "X_val, y_val = convert_to_array_and_split(val_image)\n",
    "print(X_val.shape)"
   ]
  },
  {
   "cell_type": "code",
   "execution_count": 17,
   "id": "satellite-drinking",
   "metadata": {},
   "outputs": [],
   "source": [
    "'''This model was trained on a dataset that has 1,000 classes. \n",
    "include_top = False will remove the last layer of this model so that we can tune it as per our need.\n",
    "'''\n",
    "base_model = VGG16(weights='imagenet', include_top=False)"
   ]
  },
  {
   "cell_type": "code",
   "execution_count": 18,
   "id": "unable-advantage",
   "metadata": {},
   "outputs": [
    {
     "data": {
      "text/plain": [
       "(620, 7, 7, 512)"
      ]
     },
     "execution_count": 18,
     "metadata": {},
     "output_type": "execute_result"
    }
   ],
   "source": [
    "# extracting features for training frames\n",
    "X_train = base_model.predict(X_train)\n",
    "X_train.shape"
   ]
  },
  {
   "cell_type": "code",
   "execution_count": 19,
   "id": "studied-machinery",
   "metadata": {},
   "outputs": [
    {
     "data": {
      "text/plain": [
       "(115, 7, 7, 512)"
      ]
     },
     "execution_count": 19,
     "metadata": {},
     "output_type": "execute_result"
    }
   ],
   "source": [
    "X_val = base_model.predict(X_val)\n",
    "X_val.shape"
   ]
  },
  {
   "cell_type": "code",
   "execution_count": 20,
   "id": "mexican-cedar",
   "metadata": {},
   "outputs": [],
   "source": [
    "# reshaping the training as well as validation frames in single dimension\n",
    "X_train = X_train.reshape(620, 7*7*512)\n",
    "X_val = X_val.reshape(115, 7*7*512)"
   ]
  },
  {
   "cell_type": "code",
   "execution_count": 21,
   "id": "retained-correction",
   "metadata": {},
   "outputs": [
    {
     "name": "stdout",
     "output_type": "stream",
     "text": [
      "(620, 25088)\n",
      "(115, 25088)\n"
     ]
    }
   ],
   "source": [
    "# normalizing the pixel values\n",
    "max_pixel = X_train.max()\n",
    "X_train = X_train / max_pixel\n",
    "X_val = X_val / max_pixel\n",
    "print(X_train.shape)\n",
    "print(X_val.shape)"
   ]
  },
  {
   "cell_type": "code",
   "execution_count": 22,
   "id": "fallen-european",
   "metadata": {},
   "outputs": [
    {
     "ename": "IndexError",
     "evalue": "index 3 is out of bounds for axis 1 with size 3",
     "output_type": "error",
     "traceback": [
      "\u001b[0;31m---------------------------------------------------------------------------\u001b[0m",
      "\u001b[0;31mIndexError\u001b[0m                                Traceback (most recent call last)",
      "\u001b[0;32m<ipython-input-22-4b0522c0bf1f>\u001b[0m in \u001b[0;36m<module>\u001b[0;34m\u001b[0m\n\u001b[1;32m      1\u001b[0m \u001b[0;31m# y_train.value_counts()\u001b[0m\u001b[0;34m\u001b[0m\u001b[0;34m\u001b[0m\u001b[0;34m\u001b[0m\u001b[0m\n\u001b[0;32m----> 2\u001b[0;31m \u001b[0my_train\u001b[0m \u001b[0;34m=\u001b[0m \u001b[0mto_categorical\u001b[0m\u001b[0;34m(\u001b[0m\u001b[0my_val\u001b[0m\u001b[0;34m,\u001b[0m \u001b[0;36m3\u001b[0m\u001b[0;34m)\u001b[0m\u001b[0;34m\u001b[0m\u001b[0;34m\u001b[0m\u001b[0m\n\u001b[0m\u001b[1;32m      3\u001b[0m \u001b[0my_val\u001b[0m \u001b[0;34m=\u001b[0m \u001b[0mto_categorical\u001b[0m\u001b[0;34m(\u001b[0m\u001b[0my_val\u001b[0m\u001b[0;34m,\u001b[0m \u001b[0;36m3\u001b[0m\u001b[0;34m)\u001b[0m\u001b[0;34m\u001b[0m\u001b[0;34m\u001b[0m\u001b[0m\n\u001b[1;32m      4\u001b[0m \u001b[0mprint\u001b[0m\u001b[0;34m(\u001b[0m\u001b[0my_train\u001b[0m\u001b[0;34m)\u001b[0m\u001b[0;34m\u001b[0m\u001b[0;34m\u001b[0m\u001b[0m\n",
      "\u001b[0;32m~/anaconda3/envs/action-recognition/lib/python3.8/site-packages/tensorflow/python/keras/utils/np_utils.py\u001b[0m in \u001b[0;36mto_categorical\u001b[0;34m(y, num_classes, dtype)\u001b[0m\n\u001b[1;32m     76\u001b[0m   \u001b[0mn\u001b[0m \u001b[0;34m=\u001b[0m \u001b[0my\u001b[0m\u001b[0;34m.\u001b[0m\u001b[0mshape\u001b[0m\u001b[0;34m[\u001b[0m\u001b[0;36m0\u001b[0m\u001b[0;34m]\u001b[0m\u001b[0;34m\u001b[0m\u001b[0;34m\u001b[0m\u001b[0m\n\u001b[1;32m     77\u001b[0m   \u001b[0mcategorical\u001b[0m \u001b[0;34m=\u001b[0m \u001b[0mnp\u001b[0m\u001b[0;34m.\u001b[0m\u001b[0mzeros\u001b[0m\u001b[0;34m(\u001b[0m\u001b[0;34m(\u001b[0m\u001b[0mn\u001b[0m\u001b[0;34m,\u001b[0m \u001b[0mnum_classes\u001b[0m\u001b[0;34m)\u001b[0m\u001b[0;34m,\u001b[0m \u001b[0mdtype\u001b[0m\u001b[0;34m=\u001b[0m\u001b[0mdtype\u001b[0m\u001b[0;34m)\u001b[0m\u001b[0;34m\u001b[0m\u001b[0;34m\u001b[0m\u001b[0m\n\u001b[0;32m---> 78\u001b[0;31m   \u001b[0mcategorical\u001b[0m\u001b[0;34m[\u001b[0m\u001b[0mnp\u001b[0m\u001b[0;34m.\u001b[0m\u001b[0marange\u001b[0m\u001b[0;34m(\u001b[0m\u001b[0mn\u001b[0m\u001b[0;34m)\u001b[0m\u001b[0;34m,\u001b[0m \u001b[0my\u001b[0m\u001b[0;34m]\u001b[0m \u001b[0;34m=\u001b[0m \u001b[0;36m1\u001b[0m\u001b[0;34m\u001b[0m\u001b[0;34m\u001b[0m\u001b[0m\n\u001b[0m\u001b[1;32m     79\u001b[0m   \u001b[0moutput_shape\u001b[0m \u001b[0;34m=\u001b[0m \u001b[0minput_shape\u001b[0m \u001b[0;34m+\u001b[0m \u001b[0;34m(\u001b[0m\u001b[0mnum_classes\u001b[0m\u001b[0;34m,\u001b[0m\u001b[0;34m)\u001b[0m\u001b[0;34m\u001b[0m\u001b[0;34m\u001b[0m\u001b[0m\n\u001b[1;32m     80\u001b[0m   \u001b[0mcategorical\u001b[0m \u001b[0;34m=\u001b[0m \u001b[0mnp\u001b[0m\u001b[0;34m.\u001b[0m\u001b[0mreshape\u001b[0m\u001b[0;34m(\u001b[0m\u001b[0mcategorical\u001b[0m\u001b[0;34m,\u001b[0m \u001b[0moutput_shape\u001b[0m\u001b[0;34m)\u001b[0m\u001b[0;34m\u001b[0m\u001b[0;34m\u001b[0m\u001b[0m\n",
      "\u001b[0;31mIndexError\u001b[0m: index 3 is out of bounds for axis 1 with size 3"
     ]
    }
   ],
   "source": [
    "# y_train.value_counts()\n",
    "y_train = to_categorical(y_val, 3)\n",
    "y_val = to_categorical(y_val, 3)\n",
    "print(y_train)"
   ]
  },
  {
   "cell_type": "code",
   "execution_count": 23,
   "id": "supreme-mountain",
   "metadata": {},
   "outputs": [
    {
     "name": "stdout",
     "output_type": "stream",
     "text": [
      "Model: \"sequential\"\n",
      "_________________________________________________________________\n",
      "Layer (type)                 Output Shape              Param #   \n",
      "=================================================================\n",
      "dense (Dense)                (None, 1024)              25691136  \n",
      "_________________________________________________________________\n",
      "dropout (Dropout)            (None, 1024)              0         \n",
      "_________________________________________________________________\n",
      "dense_1 (Dense)              (None, 512)               524800    \n",
      "_________________________________________________________________\n",
      "dropout_1 (Dropout)          (None, 512)               0         \n",
      "_________________________________________________________________\n",
      "dense_2 (Dense)              (None, 256)               131328    \n",
      "_________________________________________________________________\n",
      "dropout_2 (Dropout)          (None, 256)               0         \n",
      "_________________________________________________________________\n",
      "dense_3 (Dense)              (None, 128)               32896     \n",
      "_________________________________________________________________\n",
      "dropout_3 (Dropout)          (None, 128)               0         \n",
      "_________________________________________________________________\n",
      "dense_4 (Dense)              (None, 1)                 129       \n",
      "=================================================================\n",
      "Total params: 26,380,289\n",
      "Trainable params: 26,380,289\n",
      "Non-trainable params: 0\n",
      "_________________________________________________________________\n"
     ]
    }
   ],
   "source": [
    "# The input shape will be 25,088\n",
    "model = Sequential()\n",
    "model.add(Dense(1024, activation='relu', input_shape=(25088,)))\n",
    "model.add(Dropout(0.5))\n",
    "model.add(Dense(512, activation='relu'))\n",
    "model.add(Dropout(0.5))\n",
    "model.add(Dense(256, activation='relu'))\n",
    "model.add(Dropout(0.5))\n",
    "model.add(Dense(128, activation='relu'))\n",
    "model.add(Dropout(0.5))\n",
    "model.add(Dense(1, activation='softmax'))\n",
    "model.compile(loss='categorical_crossentropy',optimizer='Adam',metrics=['accuracy'])\n",
    "model.summary()"
   ]
  },
  {
   "cell_type": "code",
   "execution_count": 24,
   "id": "cosmetic-antibody",
   "metadata": {},
   "outputs": [],
   "source": [
    "# defining a function to save the weights of best model\n",
    "from keras.callbacks import ModelCheckpoint\n",
    "mcp_weight = ModelCheckpoint('weight.hdf5', save_best_only=True, monitor='val_loss', mode='min')"
   ]
  },
  {
   "cell_type": "code",
   "execution_count": 25,
   "id": "occupied-business",
   "metadata": {},
   "outputs": [
    {
     "name": "stdout",
     "output_type": "stream",
     "text": [
      "Epoch 1/50\n",
      "5/5 [==============================] - 2s 302ms/step - loss: 0.0000e+00 - accuracy: 0.2102 - val_loss: 0.0000e+00 - val_accuracy: 0.2174\n",
      "Epoch 2/50\n",
      "5/5 [==============================] - 1s 219ms/step - loss: 0.0000e+00 - accuracy: 0.2299 - val_loss: 0.0000e+00 - val_accuracy: 0.2174\n",
      "Epoch 3/50\n",
      "5/5 [==============================] - 1s 218ms/step - loss: 0.0000e+00 - accuracy: 0.2337 - val_loss: 0.0000e+00 - val_accuracy: 0.2174\n",
      "Epoch 4/50\n",
      "5/5 [==============================] - 1s 245ms/step - loss: 0.0000e+00 - accuracy: 0.2316 - val_loss: 0.0000e+00 - val_accuracy: 0.2174\n",
      "Epoch 5/50\n",
      "5/5 [==============================] - 1s 219ms/step - loss: 0.0000e+00 - accuracy: 0.2321 - val_loss: 0.0000e+00 - val_accuracy: 0.2174\n",
      "Epoch 6/50\n",
      "5/5 [==============================] - 1s 237ms/step - loss: 0.0000e+00 - accuracy: 0.2221 - val_loss: 0.0000e+00 - val_accuracy: 0.2174\n",
      "Epoch 7/50\n",
      "5/5 [==============================] - 1s 239ms/step - loss: 0.0000e+00 - accuracy: 0.2467 - val_loss: 0.0000e+00 - val_accuracy: 0.2174\n",
      "Epoch 8/50\n",
      "5/5 [==============================] - 1s 237ms/step - loss: 0.0000e+00 - accuracy: 0.2181 - val_loss: 0.0000e+00 - val_accuracy: 0.2174\n",
      "Epoch 9/50\n",
      "5/5 [==============================] - 1s 235ms/step - loss: 0.0000e+00 - accuracy: 0.2276 - val_loss: 0.0000e+00 - val_accuracy: 0.2174\n",
      "Epoch 10/50\n",
      "5/5 [==============================] - 1s 219ms/step - loss: 0.0000e+00 - accuracy: 0.2161 - val_loss: 0.0000e+00 - val_accuracy: 0.2174\n",
      "Epoch 11/50\n",
      "5/5 [==============================] - 1s 218ms/step - loss: 0.0000e+00 - accuracy: 0.2238 - val_loss: 0.0000e+00 - val_accuracy: 0.2174\n",
      "Epoch 12/50\n",
      "5/5 [==============================] - 1s 220ms/step - loss: 0.0000e+00 - accuracy: 0.2243 - val_loss: 0.0000e+00 - val_accuracy: 0.2174\n",
      "Epoch 13/50\n",
      "5/5 [==============================] - 1s 235ms/step - loss: 0.0000e+00 - accuracy: 0.2311 - val_loss: 0.0000e+00 - val_accuracy: 0.2174\n",
      "Epoch 14/50\n",
      "5/5 [==============================] - 1s 236ms/step - loss: 0.0000e+00 - accuracy: 0.2370 - val_loss: 0.0000e+00 - val_accuracy: 0.2174\n",
      "Epoch 15/50\n",
      "5/5 [==============================] - 1s 234ms/step - loss: 0.0000e+00 - accuracy: 0.2475 - val_loss: 0.0000e+00 - val_accuracy: 0.2174\n",
      "Epoch 16/50\n",
      "5/5 [==============================] - 1s 224ms/step - loss: 0.0000e+00 - accuracy: 0.2452 - val_loss: 0.0000e+00 - val_accuracy: 0.2174\n",
      "Epoch 17/50\n",
      "5/5 [==============================] - 1s 226ms/step - loss: 0.0000e+00 - accuracy: 0.2182 - val_loss: 0.0000e+00 - val_accuracy: 0.2174\n",
      "Epoch 18/50\n",
      "5/5 [==============================] - 1s 229ms/step - loss: 0.0000e+00 - accuracy: 0.2107 - val_loss: 0.0000e+00 - val_accuracy: 0.2174\n",
      "Epoch 19/50\n",
      "5/5 [==============================] - 1s 230ms/step - loss: 0.0000e+00 - accuracy: 0.2189 - val_loss: 0.0000e+00 - val_accuracy: 0.2174\n",
      "Epoch 20/50\n",
      "5/5 [==============================] - 1s 232ms/step - loss: 0.0000e+00 - accuracy: 0.2223 - val_loss: 0.0000e+00 - val_accuracy: 0.2174\n",
      "Epoch 21/50\n",
      "5/5 [==============================] - 1s 234ms/step - loss: 0.0000e+00 - accuracy: 0.2310 - val_loss: 0.0000e+00 - val_accuracy: 0.2174\n",
      "Epoch 22/50\n",
      "5/5 [==============================] - 1s 235ms/step - loss: 0.0000e+00 - accuracy: 0.2319 - val_loss: 0.0000e+00 - val_accuracy: 0.2174\n",
      "Epoch 23/50\n",
      "5/5 [==============================] - 1s 238ms/step - loss: 0.0000e+00 - accuracy: 0.2385 - val_loss: 0.0000e+00 - val_accuracy: 0.2174\n",
      "Epoch 24/50\n",
      "5/5 [==============================] - 1s 241ms/step - loss: 0.0000e+00 - accuracy: 0.2224 - val_loss: 0.0000e+00 - val_accuracy: 0.2174\n",
      "Epoch 25/50\n",
      "5/5 [==============================] - 1s 240ms/step - loss: 0.0000e+00 - accuracy: 0.2275 - val_loss: 0.0000e+00 - val_accuracy: 0.2174\n",
      "Epoch 26/50\n",
      "5/5 [==============================] - 1s 241ms/step - loss: 0.0000e+00 - accuracy: 0.2203 - val_loss: 0.0000e+00 - val_accuracy: 0.2174\n",
      "Epoch 27/50\n",
      "5/5 [==============================] - 1s 243ms/step - loss: 0.0000e+00 - accuracy: 0.2151 - val_loss: 0.0000e+00 - val_accuracy: 0.2174\n",
      "Epoch 28/50\n",
      "5/5 [==============================] - 1s 244ms/step - loss: 0.0000e+00 - accuracy: 0.2140 - val_loss: 0.0000e+00 - val_accuracy: 0.2174\n",
      "Epoch 29/50\n",
      "5/5 [==============================] - 1s 245ms/step - loss: 0.0000e+00 - accuracy: 0.2446 - val_loss: 0.0000e+00 - val_accuracy: 0.2174\n",
      "Epoch 30/50\n",
      "5/5 [==============================] - 1s 247ms/step - loss: 0.0000e+00 - accuracy: 0.2300 - val_loss: 0.0000e+00 - val_accuracy: 0.2174\n",
      "Epoch 31/50\n",
      "5/5 [==============================] - 1s 253ms/step - loss: 0.0000e+00 - accuracy: 0.2424 - val_loss: 0.0000e+00 - val_accuracy: 0.2174\n",
      "Epoch 32/50\n",
      "5/5 [==============================] - 1s 251ms/step - loss: 0.0000e+00 - accuracy: 0.2337 - val_loss: 0.0000e+00 - val_accuracy: 0.2174\n",
      "Epoch 33/50\n",
      "5/5 [==============================] - 1s 255ms/step - loss: 0.0000e+00 - accuracy: 0.2263 - val_loss: 0.0000e+00 - val_accuracy: 0.2174\n",
      "Epoch 34/50\n",
      "5/5 [==============================] - 1s 302ms/step - loss: 0.0000e+00 - accuracy: 0.2205 - val_loss: 0.0000e+00 - val_accuracy: 0.2174\n",
      "Epoch 35/50\n",
      "5/5 [==============================] - 1s 299ms/step - loss: 0.0000e+00 - accuracy: 0.2156 - val_loss: 0.0000e+00 - val_accuracy: 0.2174\n",
      "Epoch 36/50\n",
      "5/5 [==============================] - 2s 435ms/step - loss: 0.0000e+00 - accuracy: 0.2315 - val_loss: 0.0000e+00 - val_accuracy: 0.2174\n",
      "Epoch 37/50\n",
      "5/5 [==============================] - 2s 428ms/step - loss: 0.0000e+00 - accuracy: 0.2105 - val_loss: 0.0000e+00 - val_accuracy: 0.2174\n",
      "Epoch 38/50\n",
      "5/5 [==============================] - 2s 309ms/step - loss: 0.0000e+00 - accuracy: 0.2271 - val_loss: 0.0000e+00 - val_accuracy: 0.2174\n",
      "Epoch 39/50\n",
      "5/5 [==============================] - 2s 326ms/step - loss: 0.0000e+00 - accuracy: 0.2243 - val_loss: 0.0000e+00 - val_accuracy: 0.2174\n",
      "Epoch 40/50\n",
      "5/5 [==============================] - 2s 336ms/step - loss: 0.0000e+00 - accuracy: 0.2432 - val_loss: 0.0000e+00 - val_accuracy: 0.2174\n",
      "Epoch 41/50\n",
      "5/5 [==============================] - 1s 282ms/step - loss: 0.0000e+00 - accuracy: 0.2376 - val_loss: 0.0000e+00 - val_accuracy: 0.2174\n",
      "Epoch 42/50\n",
      "5/5 [==============================] - 1s 295ms/step - loss: 0.0000e+00 - accuracy: 0.2336 - val_loss: 0.0000e+00 - val_accuracy: 0.2174\n",
      "Epoch 43/50\n",
      "5/5 [==============================] - 1s 285ms/step - loss: 0.0000e+00 - accuracy: 0.2212 - val_loss: 0.0000e+00 - val_accuracy: 0.2174\n",
      "Epoch 44/50\n",
      "5/5 [==============================] - 1s 255ms/step - loss: 0.0000e+00 - accuracy: 0.2307 - val_loss: 0.0000e+00 - val_accuracy: 0.2174\n",
      "Epoch 45/50\n",
      "5/5 [==============================] - 1s 268ms/step - loss: 0.0000e+00 - accuracy: 0.2361 - val_loss: 0.0000e+00 - val_accuracy: 0.2174\n",
      "Epoch 46/50\n",
      "5/5 [==============================] - 1s 261ms/step - loss: 0.0000e+00 - accuracy: 0.2184 - val_loss: 0.0000e+00 - val_accuracy: 0.2174\n",
      "Epoch 47/50\n",
      "5/5 [==============================] - 1s 262ms/step - loss: 0.0000e+00 - accuracy: 0.2253 - val_loss: 0.0000e+00 - val_accuracy: 0.2174\n",
      "Epoch 48/50\n",
      "5/5 [==============================] - 1s 267ms/step - loss: 0.0000e+00 - accuracy: 0.2115 - val_loss: 0.0000e+00 - val_accuracy: 0.2174\n",
      "Epoch 49/50\n",
      "5/5 [==============================] - 1s 268ms/step - loss: 0.0000e+00 - accuracy: 0.2387 - val_loss: 0.0000e+00 - val_accuracy: 0.2174\n",
      "Epoch 50/50\n",
      "5/5 [==============================] - 1s 309ms/step - loss: 0.0000e+00 - accuracy: 0.2274 - val_loss: 0.0000e+00 - val_accuracy: 0.2174\n"
     ]
    },
    {
     "data": {
      "text/plain": [
       "<tensorflow.python.keras.callbacks.History at 0x7f118bfcaaf0>"
      ]
     },
     "execution_count": 25,
     "metadata": {},
     "output_type": "execute_result"
    }
   ],
   "source": [
    "model.fit(X_train, y_train, epochs=50, validation_data=(X_val, y_val), callbacks=[mcp_weight], batch_size=128)"
   ]
  },
  {
   "cell_type": "code",
   "execution_count": 26,
   "id": "interested-virtue",
   "metadata": {},
   "outputs": [
    {
     "name": "stdout",
     "output_type": "stream",
     "text": [
      "Model: \"sequential\"\n",
      "_________________________________________________________________\n",
      "Layer (type)                 Output Shape              Param #   \n",
      "=================================================================\n",
      "dense (Dense)                (None, 1024)              25691136  \n",
      "_________________________________________________________________\n",
      "dropout (Dropout)            (None, 1024)              0         \n",
      "_________________________________________________________________\n",
      "dense_1 (Dense)              (None, 512)               524800    \n",
      "_________________________________________________________________\n",
      "dropout_1 (Dropout)          (None, 512)               0         \n",
      "_________________________________________________________________\n",
      "dense_2 (Dense)              (None, 256)               131328    \n",
      "_________________________________________________________________\n",
      "dropout_2 (Dropout)          (None, 256)               0         \n",
      "_________________________________________________________________\n",
      "dense_3 (Dense)              (None, 128)               32896     \n",
      "_________________________________________________________________\n",
      "dropout_3 (Dropout)          (None, 128)               0         \n",
      "_________________________________________________________________\n",
      "dense_4 (Dense)              (None, 1)                 129       \n",
      "=================================================================\n",
      "Total params: 26,380,289\n",
      "Trainable params: 26,380,289\n",
      "Non-trainable params: 0\n",
      "_________________________________________________________________\n"
     ]
    }
   ],
   "source": [
    "model.summary()"
   ]
  }
 ],
 "metadata": {
  "kernelspec": {
   "display_name": "Python 3",
   "language": "python",
   "name": "python3"
  },
  "language_info": {
   "codemirror_mode": {
    "name": "ipython",
    "version": 3
   },
   "file_extension": ".py",
   "mimetype": "text/x-python",
   "name": "python",
   "nbconvert_exporter": "python",
   "pygments_lexer": "ipython3",
   "version": "3.8.8"
  }
 },
 "nbformat": 4,
 "nbformat_minor": 5
}
