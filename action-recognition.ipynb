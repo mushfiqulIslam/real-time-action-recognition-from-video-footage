{
 "cells": [
  {
   "cell_type": "code",
   "execution_count": 98,
   "id": "designing-excuse",
   "metadata": {},
   "outputs": [],
   "source": [
    "import os\n",
    "import math\n",
    "import cv2\n",
    "import pandas as pd\n",
    "\n",
    "from tqdm import tqdm\n",
    "from tools.train_val_test_spliter import split"
   ]
  },
  {
   "cell_type": "code",
   "execution_count": 3,
   "id": "configured-footage",
   "metadata": {},
   "outputs": [
    {
     "name": "stdout",
     "output_type": "stream",
     "text": [
      "Splitting the ginen dataset into Train Test=0.4 Validation=0.1\n",
      "Done\n"
     ]
    }
   ],
   "source": [
    "# To split dataset if already splits folder already exits no need to run it\n",
    "split()"
   ]
  },
  {
   "cell_type": "code",
   "execution_count": 46,
   "id": "static-chess",
   "metadata": {},
   "outputs": [],
   "source": [
    "train = pd. read_csv('dataset/train.csv')\n",
    "test = pd. read_csv('dataset/test.csv')\n",
    "val = pd. read_csv('dataset/val.csv')"
   ]
  },
  {
   "cell_type": "code",
   "execution_count": 47,
   "id": "rising-concrete",
   "metadata": {},
   "outputs": [
    {
     "data": {
      "text/html": [
       "<div>\n",
       "<style scoped>\n",
       "    .dataframe tbody tr th:only-of-type {\n",
       "        vertical-align: middle;\n",
       "    }\n",
       "\n",
       "    .dataframe tbody tr th {\n",
       "        vertical-align: top;\n",
       "    }\n",
       "\n",
       "    .dataframe thead th {\n",
       "        text-align: right;\n",
       "    }\n",
       "</style>\n",
       "<table border=\"1\" class=\"dataframe\">\n",
       "  <thead>\n",
       "    <tr style=\"text-align: right;\">\n",
       "      <th></th>\n",
       "      <th>Unnamed: 0</th>\n",
       "      <th>Video_url</th>\n",
       "      <th>Action</th>\n",
       "    </tr>\n",
       "  </thead>\n",
       "  <tbody>\n",
       "    <tr>\n",
       "      <th>0</th>\n",
       "      <td>0</td>\n",
       "      <td>/home/mushfiqul/Mushfiqul/CSE/Thesis2.0/real-t...</td>\n",
       "      <td>punch</td>\n",
       "    </tr>\n",
       "    <tr>\n",
       "      <th>1</th>\n",
       "      <td>1</td>\n",
       "      <td>/home/mushfiqul/Mushfiqul/CSE/Thesis2.0/real-t...</td>\n",
       "      <td>slap</td>\n",
       "    </tr>\n",
       "    <tr>\n",
       "      <th>2</th>\n",
       "      <td>2</td>\n",
       "      <td>/home/mushfiqul/Mushfiqul/CSE/Thesis2.0/real-t...</td>\n",
       "      <td>kick</td>\n",
       "    </tr>\n",
       "    <tr>\n",
       "      <th>3</th>\n",
       "      <td>3</td>\n",
       "      <td>/home/mushfiqul/Mushfiqul/CSE/Thesis2.0/real-t...</td>\n",
       "      <td>punch</td>\n",
       "    </tr>\n",
       "    <tr>\n",
       "      <th>4</th>\n",
       "      <td>4</td>\n",
       "      <td>/home/mushfiqul/Mushfiqul/CSE/Thesis2.0/real-t...</td>\n",
       "      <td>slap</td>\n",
       "    </tr>\n",
       "  </tbody>\n",
       "</table>\n",
       "</div>"
      ],
      "text/plain": [
       "   Unnamed: 0                                          Video_url Action\n",
       "0           0  /home/mushfiqul/Mushfiqul/CSE/Thesis2.0/real-t...  punch\n",
       "1           1  /home/mushfiqul/Mushfiqul/CSE/Thesis2.0/real-t...   slap\n",
       "2           2  /home/mushfiqul/Mushfiqul/CSE/Thesis2.0/real-t...   kick\n",
       "3           3  /home/mushfiqul/Mushfiqul/CSE/Thesis2.0/real-t...  punch\n",
       "4           4  /home/mushfiqul/Mushfiqul/CSE/Thesis2.0/real-t...   slap"
      ]
     },
     "execution_count": 47,
     "metadata": {},
     "output_type": "execute_result"
    }
   ],
   "source": [
    "train.head()"
   ]
  },
  {
   "cell_type": "code",
   "execution_count": 48,
   "id": "stainless-personal",
   "metadata": {},
   "outputs": [
    {
     "data": {
      "text/html": [
       "<div>\n",
       "<style scoped>\n",
       "    .dataframe tbody tr th:only-of-type {\n",
       "        vertical-align: middle;\n",
       "    }\n",
       "\n",
       "    .dataframe tbody tr th {\n",
       "        vertical-align: top;\n",
       "    }\n",
       "\n",
       "    .dataframe thead th {\n",
       "        text-align: right;\n",
       "    }\n",
       "</style>\n",
       "<table border=\"1\" class=\"dataframe\">\n",
       "  <thead>\n",
       "    <tr style=\"text-align: right;\">\n",
       "      <th></th>\n",
       "      <th>Unnamed: 0</th>\n",
       "      <th>Video_url</th>\n",
       "      <th>Action</th>\n",
       "    </tr>\n",
       "  </thead>\n",
       "  <tbody>\n",
       "    <tr>\n",
       "      <th>0</th>\n",
       "      <td>0</td>\n",
       "      <td>/home/mushfiqul/Mushfiqul/CSE/Thesis2.0/real-t...</td>\n",
       "      <td>kick</td>\n",
       "    </tr>\n",
       "    <tr>\n",
       "      <th>1</th>\n",
       "      <td>1</td>\n",
       "      <td>/home/mushfiqul/Mushfiqul/CSE/Thesis2.0/real-t...</td>\n",
       "      <td>slap</td>\n",
       "    </tr>\n",
       "    <tr>\n",
       "      <th>2</th>\n",
       "      <td>2</td>\n",
       "      <td>/home/mushfiqul/Mushfiqul/CSE/Thesis2.0/real-t...</td>\n",
       "      <td>punch</td>\n",
       "    </tr>\n",
       "    <tr>\n",
       "      <th>3</th>\n",
       "      <td>3</td>\n",
       "      <td>/home/mushfiqul/Mushfiqul/CSE/Thesis2.0/real-t...</td>\n",
       "      <td>kick</td>\n",
       "    </tr>\n",
       "    <tr>\n",
       "      <th>4</th>\n",
       "      <td>4</td>\n",
       "      <td>/home/mushfiqul/Mushfiqul/CSE/Thesis2.0/real-t...</td>\n",
       "      <td>punch</td>\n",
       "    </tr>\n",
       "  </tbody>\n",
       "</table>\n",
       "</div>"
      ],
      "text/plain": [
       "   Unnamed: 0                                          Video_url Action\n",
       "0           0  /home/mushfiqul/Mushfiqul/CSE/Thesis2.0/real-t...   kick\n",
       "1           1  /home/mushfiqul/Mushfiqul/CSE/Thesis2.0/real-t...   slap\n",
       "2           2  /home/mushfiqul/Mushfiqul/CSE/Thesis2.0/real-t...  punch\n",
       "3           3  /home/mushfiqul/Mushfiqul/CSE/Thesis2.0/real-t...   kick\n",
       "4           4  /home/mushfiqul/Mushfiqul/CSE/Thesis2.0/real-t...  punch"
      ]
     },
     "execution_count": 48,
     "metadata": {},
     "output_type": "execute_result"
    }
   ],
   "source": [
    "test.head()"
   ]
  },
  {
   "cell_type": "code",
   "execution_count": 49,
   "id": "pharmaceutical-honduras",
   "metadata": {},
   "outputs": [
    {
     "data": {
      "text/html": [
       "<div>\n",
       "<style scoped>\n",
       "    .dataframe tbody tr th:only-of-type {\n",
       "        vertical-align: middle;\n",
       "    }\n",
       "\n",
       "    .dataframe tbody tr th {\n",
       "        vertical-align: top;\n",
       "    }\n",
       "\n",
       "    .dataframe thead th {\n",
       "        text-align: right;\n",
       "    }\n",
       "</style>\n",
       "<table border=\"1\" class=\"dataframe\">\n",
       "  <thead>\n",
       "    <tr style=\"text-align: right;\">\n",
       "      <th></th>\n",
       "      <th>Unnamed: 0</th>\n",
       "      <th>Video_url</th>\n",
       "      <th>Action</th>\n",
       "    </tr>\n",
       "  </thead>\n",
       "  <tbody>\n",
       "    <tr>\n",
       "      <th>0</th>\n",
       "      <td>0</td>\n",
       "      <td>/home/mushfiqul/Mushfiqul/CSE/Thesis2.0/real-t...</td>\n",
       "      <td>slap</td>\n",
       "    </tr>\n",
       "    <tr>\n",
       "      <th>1</th>\n",
       "      <td>1</td>\n",
       "      <td>/home/mushfiqul/Mushfiqul/CSE/Thesis2.0/real-t...</td>\n",
       "      <td>slap</td>\n",
       "    </tr>\n",
       "    <tr>\n",
       "      <th>2</th>\n",
       "      <td>2</td>\n",
       "      <td>/home/mushfiqul/Mushfiqul/CSE/Thesis2.0/real-t...</td>\n",
       "      <td>slap</td>\n",
       "    </tr>\n",
       "    <tr>\n",
       "      <th>3</th>\n",
       "      <td>3</td>\n",
       "      <td>/home/mushfiqul/Mushfiqul/CSE/Thesis2.0/real-t...</td>\n",
       "      <td>slap</td>\n",
       "    </tr>\n",
       "    <tr>\n",
       "      <th>4</th>\n",
       "      <td>4</td>\n",
       "      <td>/home/mushfiqul/Mushfiqul/CSE/Thesis2.0/real-t...</td>\n",
       "      <td>kick</td>\n",
       "    </tr>\n",
       "  </tbody>\n",
       "</table>\n",
       "</div>"
      ],
      "text/plain": [
       "   Unnamed: 0                                          Video_url Action\n",
       "0           0  /home/mushfiqul/Mushfiqul/CSE/Thesis2.0/real-t...   slap\n",
       "1           1  /home/mushfiqul/Mushfiqul/CSE/Thesis2.0/real-t...   slap\n",
       "2           2  /home/mushfiqul/Mushfiqul/CSE/Thesis2.0/real-t...   slap\n",
       "3           3  /home/mushfiqul/Mushfiqul/CSE/Thesis2.0/real-t...   slap\n",
       "4           4  /home/mushfiqul/Mushfiqul/CSE/Thesis2.0/real-t...   kick"
      ]
     },
     "execution_count": 49,
     "metadata": {},
     "output_type": "execute_result"
    }
   ],
   "source": [
    "val.head()"
   ]
  },
  {
   "cell_type": "code",
   "execution_count": 50,
   "id": "sublime-seeker",
   "metadata": {},
   "outputs": [],
   "source": [
    "train.drop('Unnamed: 0',\n",
    "  axis='columns', inplace=True)\n",
    "val.drop('Unnamed: 0',\n",
    "  axis='columns', inplace=True)\n",
    "test.drop('Unnamed: 0',\n",
    "  axis='columns', inplace=True)"
   ]
  },
  {
   "cell_type": "code",
   "execution_count": 51,
   "id": "constant-brisbane",
   "metadata": {},
   "outputs": [
    {
     "data": {
      "text/html": [
       "<div>\n",
       "<style scoped>\n",
       "    .dataframe tbody tr th:only-of-type {\n",
       "        vertical-align: middle;\n",
       "    }\n",
       "\n",
       "    .dataframe tbody tr th {\n",
       "        vertical-align: top;\n",
       "    }\n",
       "\n",
       "    .dataframe thead th {\n",
       "        text-align: right;\n",
       "    }\n",
       "</style>\n",
       "<table border=\"1\" class=\"dataframe\">\n",
       "  <thead>\n",
       "    <tr style=\"text-align: right;\">\n",
       "      <th></th>\n",
       "      <th>Video_url</th>\n",
       "      <th>Action</th>\n",
       "    </tr>\n",
       "  </thead>\n",
       "  <tbody>\n",
       "    <tr>\n",
       "      <th>0</th>\n",
       "      <td>/home/mushfiqul/Mushfiqul/CSE/Thesis2.0/real-t...</td>\n",
       "      <td>punch</td>\n",
       "    </tr>\n",
       "    <tr>\n",
       "      <th>1</th>\n",
       "      <td>/home/mushfiqul/Mushfiqul/CSE/Thesis2.0/real-t...</td>\n",
       "      <td>slap</td>\n",
       "    </tr>\n",
       "    <tr>\n",
       "      <th>2</th>\n",
       "      <td>/home/mushfiqul/Mushfiqul/CSE/Thesis2.0/real-t...</td>\n",
       "      <td>kick</td>\n",
       "    </tr>\n",
       "    <tr>\n",
       "      <th>3</th>\n",
       "      <td>/home/mushfiqul/Mushfiqul/CSE/Thesis2.0/real-t...</td>\n",
       "      <td>punch</td>\n",
       "    </tr>\n",
       "    <tr>\n",
       "      <th>4</th>\n",
       "      <td>/home/mushfiqul/Mushfiqul/CSE/Thesis2.0/real-t...</td>\n",
       "      <td>slap</td>\n",
       "    </tr>\n",
       "  </tbody>\n",
       "</table>\n",
       "</div>"
      ],
      "text/plain": [
       "                                           Video_url Action\n",
       "0  /home/mushfiqul/Mushfiqul/CSE/Thesis2.0/real-t...  punch\n",
       "1  /home/mushfiqul/Mushfiqul/CSE/Thesis2.0/real-t...   slap\n",
       "2  /home/mushfiqul/Mushfiqul/CSE/Thesis2.0/real-t...   kick\n",
       "3  /home/mushfiqul/Mushfiqul/CSE/Thesis2.0/real-t...  punch\n",
       "4  /home/mushfiqul/Mushfiqul/CSE/Thesis2.0/real-t...   slap"
      ]
     },
     "execution_count": 51,
     "metadata": {},
     "output_type": "execute_result"
    }
   ],
   "source": [
    "train.head()"
   ]
  },
  {
   "cell_type": "code",
   "execution_count": 52,
   "id": "ecological-chicago",
   "metadata": {},
   "outputs": [
    {
     "data": {
      "text/html": [
       "<div>\n",
       "<style scoped>\n",
       "    .dataframe tbody tr th:only-of-type {\n",
       "        vertical-align: middle;\n",
       "    }\n",
       "\n",
       "    .dataframe tbody tr th {\n",
       "        vertical-align: top;\n",
       "    }\n",
       "\n",
       "    .dataframe thead th {\n",
       "        text-align: right;\n",
       "    }\n",
       "</style>\n",
       "<table border=\"1\" class=\"dataframe\">\n",
       "  <thead>\n",
       "    <tr style=\"text-align: right;\">\n",
       "      <th></th>\n",
       "      <th>Video_url</th>\n",
       "      <th>Action</th>\n",
       "    </tr>\n",
       "  </thead>\n",
       "  <tbody>\n",
       "    <tr>\n",
       "      <th>0</th>\n",
       "      <td>/home/mushfiqul/Mushfiqul/CSE/Thesis2.0/real-t...</td>\n",
       "      <td>kick</td>\n",
       "    </tr>\n",
       "    <tr>\n",
       "      <th>1</th>\n",
       "      <td>/home/mushfiqul/Mushfiqul/CSE/Thesis2.0/real-t...</td>\n",
       "      <td>slap</td>\n",
       "    </tr>\n",
       "    <tr>\n",
       "      <th>2</th>\n",
       "      <td>/home/mushfiqul/Mushfiqul/CSE/Thesis2.0/real-t...</td>\n",
       "      <td>punch</td>\n",
       "    </tr>\n",
       "    <tr>\n",
       "      <th>3</th>\n",
       "      <td>/home/mushfiqul/Mushfiqul/CSE/Thesis2.0/real-t...</td>\n",
       "      <td>kick</td>\n",
       "    </tr>\n",
       "    <tr>\n",
       "      <th>4</th>\n",
       "      <td>/home/mushfiqul/Mushfiqul/CSE/Thesis2.0/real-t...</td>\n",
       "      <td>punch</td>\n",
       "    </tr>\n",
       "  </tbody>\n",
       "</table>\n",
       "</div>"
      ],
      "text/plain": [
       "                                           Video_url Action\n",
       "0  /home/mushfiqul/Mushfiqul/CSE/Thesis2.0/real-t...   kick\n",
       "1  /home/mushfiqul/Mushfiqul/CSE/Thesis2.0/real-t...   slap\n",
       "2  /home/mushfiqul/Mushfiqul/CSE/Thesis2.0/real-t...  punch\n",
       "3  /home/mushfiqul/Mushfiqul/CSE/Thesis2.0/real-t...   kick\n",
       "4  /home/mushfiqul/Mushfiqul/CSE/Thesis2.0/real-t...  punch"
      ]
     },
     "execution_count": 52,
     "metadata": {},
     "output_type": "execute_result"
    }
   ],
   "source": [
    "test.head()"
   ]
  },
  {
   "cell_type": "code",
   "execution_count": 53,
   "id": "emerging-illness",
   "metadata": {},
   "outputs": [
    {
     "data": {
      "text/html": [
       "<div>\n",
       "<style scoped>\n",
       "    .dataframe tbody tr th:only-of-type {\n",
       "        vertical-align: middle;\n",
       "    }\n",
       "\n",
       "    .dataframe tbody tr th {\n",
       "        vertical-align: top;\n",
       "    }\n",
       "\n",
       "    .dataframe thead th {\n",
       "        text-align: right;\n",
       "    }\n",
       "</style>\n",
       "<table border=\"1\" class=\"dataframe\">\n",
       "  <thead>\n",
       "    <tr style=\"text-align: right;\">\n",
       "      <th></th>\n",
       "      <th>Video_url</th>\n",
       "      <th>Action</th>\n",
       "    </tr>\n",
       "  </thead>\n",
       "  <tbody>\n",
       "    <tr>\n",
       "      <th>0</th>\n",
       "      <td>/home/mushfiqul/Mushfiqul/CSE/Thesis2.0/real-t...</td>\n",
       "      <td>slap</td>\n",
       "    </tr>\n",
       "    <tr>\n",
       "      <th>1</th>\n",
       "      <td>/home/mushfiqul/Mushfiqul/CSE/Thesis2.0/real-t...</td>\n",
       "      <td>slap</td>\n",
       "    </tr>\n",
       "    <tr>\n",
       "      <th>2</th>\n",
       "      <td>/home/mushfiqul/Mushfiqul/CSE/Thesis2.0/real-t...</td>\n",
       "      <td>slap</td>\n",
       "    </tr>\n",
       "    <tr>\n",
       "      <th>3</th>\n",
       "      <td>/home/mushfiqul/Mushfiqul/CSE/Thesis2.0/real-t...</td>\n",
       "      <td>slap</td>\n",
       "    </tr>\n",
       "    <tr>\n",
       "      <th>4</th>\n",
       "      <td>/home/mushfiqul/Mushfiqul/CSE/Thesis2.0/real-t...</td>\n",
       "      <td>kick</td>\n",
       "    </tr>\n",
       "  </tbody>\n",
       "</table>\n",
       "</div>"
      ],
      "text/plain": [
       "                                           Video_url Action\n",
       "0  /home/mushfiqul/Mushfiqul/CSE/Thesis2.0/real-t...   slap\n",
       "1  /home/mushfiqul/Mushfiqul/CSE/Thesis2.0/real-t...   slap\n",
       "2  /home/mushfiqul/Mushfiqul/CSE/Thesis2.0/real-t...   slap\n",
       "3  /home/mushfiqul/Mushfiqul/CSE/Thesis2.0/real-t...   slap\n",
       "4  /home/mushfiqul/Mushfiqul/CSE/Thesis2.0/real-t...   kick"
      ]
     },
     "execution_count": 53,
     "metadata": {},
     "output_type": "execute_result"
    }
   ],
   "source": [
    "val.head()"
   ]
  },
  {
   "cell_type": "code",
   "execution_count": 54,
   "id": "twelve-independence",
   "metadata": {},
   "outputs": [
    {
     "name": "stdout",
     "output_type": "stream",
     "text": [
      "(143, 2)\n",
      "(111, 2)\n",
      "(27, 2)\n"
     ]
    }
   ],
   "source": [
    "print(train.shape)\n",
    "print(test.shape)\n",
    "print(val.shape)"
   ]
  },
  {
   "cell_type": "code",
   "execution_count": 117,
   "id": "forced-award",
   "metadata": {},
   "outputs": [],
   "source": [
    "def convert_to_frame(data, folder_name):\n",
    "    directory = 'dataset/' + folder_name\n",
    "    if not os.path.exists(directory):\n",
    "        os.makedirs(directory)\n",
    "    for i in tqdm(range(data.shape[0])):\n",
    "        video_file = data['Video_url'][i]\n",
    "        # capturing the video from the given path\n",
    "        capture = cv2.VideoCapture(video_file) \n",
    "        #frame rate\n",
    "        frame_rate = capture.get(5)\n",
    "        count = 0\n",
    "        while(capture.isOpened()):\n",
    "            #current frame number\n",
    "            frame_id = capture.get(1) \n",
    "            read_correctly, frame = capture.read()\n",
    "            if not read_correctly:\n",
    "                break\n",
    "            if (frame_id % math.floor(frame_rate) == 0):\n",
    "                # storing the frames in a new folder named train_1\n",
    "                filename = directory + \"/\" + video_file.split('/')[-1] + \"_frame{}.jpg\".format(count)\n",
    "                count += 1\n",
    "                cv2.imwrite(filename, frame)\n",
    "        capture.release()\n",
    "    print(\"Successfully Converted\")"
   ]
  },
  {
   "cell_type": "code",
   "execution_count": 118,
   "id": "criminal-wound",
   "metadata": {},
   "outputs": [
    {
     "name": "stderr",
     "output_type": "stream",
     "text": [
      "100%|██████████| 143/143 [00:53<00:00,  2.70it/s]"
     ]
    },
    {
     "name": "stdout",
     "output_type": "stream",
     "text": [
      "Successfully Converted\n"
     ]
    },
    {
     "name": "stderr",
     "output_type": "stream",
     "text": [
      "\n"
     ]
    }
   ],
   "source": [
    "convert_to_frame(train, 'train')"
   ]
  },
  {
   "cell_type": "code",
   "execution_count": null,
   "id": "compact-edmonton",
   "metadata": {},
   "outputs": [],
   "source": []
  }
 ],
 "metadata": {
  "kernelspec": {
   "display_name": "Python 3",
   "language": "python",
   "name": "python3"
  },
  "language_info": {
   "codemirror_mode": {
    "name": "ipython",
    "version": 3
   },
   "file_extension": ".py",
   "mimetype": "text/x-python",
   "name": "python",
   "nbconvert_exporter": "python",
   "pygments_lexer": "ipython3",
   "version": "3.8.8"
  }
 },
 "nbformat": 4,
 "nbformat_minor": 5
}
